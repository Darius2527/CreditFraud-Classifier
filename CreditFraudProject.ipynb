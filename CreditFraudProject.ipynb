{
  "nbformat": 4,
  "nbformat_minor": 0,
  "metadata": {
    "colab": {
      "provenance": [],
      "gpuType": "T4",
      "authorship_tag": "ABX9TyN7q6jAaQlx5lOo5mBaSa4s",
      "include_colab_link": true
    },
    "kernelspec": {
      "name": "python3",
      "display_name": "Python 3"
    },
    "language_info": {
      "name": "python"
    },
    "accelerator": "GPU"
  },
  "cells": [
    {
      "cell_type": "markdown",
      "metadata": {
        "id": "view-in-github",
        "colab_type": "text"
      },
      "source": [
        "<a href=\"https://colab.research.google.com/github/Darius2527/CreditFraud-Classifier/blob/main/CreditFraudProject.ipynb\" target=\"_parent\"><img src=\"https://colab.research.google.com/assets/colab-badge.svg\" alt=\"Open In Colab\"/></a>"
      ]
    },
    {
      "cell_type": "code",
      "source": [
        "import pandas as pd\n",
        "df=None\n",
        "#this code is written to make sure that all rows in the dataset are read. Sometimes google colab may be unable to read all the rown when the number of rows is too large\n",
        "chunk_size = 10000\n",
        "df_list = []  # Initialize an empty list to store chunk DataFrames\n",
        "\n",
        "for chunk in pd.read_csv(\"CreditFraud.csv\", chunksize=chunk_size, on_bad_lines='skip'):\n",
        "    df_list.append(chunk)  # Append each chunk DataFrame to the list\n",
        "\n",
        "# Concatenate all chunk DataFrames into a single DataFrame\n",
        "df = pd.concat(df_list, axis=0, ignore_index=True)\n",
        "\n",
        "print(df.shape)  # Check the dimensions of the final DataFrame"
      ],
      "metadata": {
        "id": "bfghDisa_pWi",
        "colab": {
          "base_uri": "https://localhost:8080/"
        },
        "outputId": "79cefb36-51bc-44db-ca2b-8541730e2471"
      },
      "execution_count": null,
      "outputs": [
        {
          "output_type": "stream",
          "name": "stdout",
          "text": [
            "(284807, 31)\n"
          ]
        }
      ]
    },
    {
      "cell_type": "code",
      "source": [
        "df.head()"
      ],
      "metadata": {
        "colab": {
          "base_uri": "https://localhost:8080/",
          "height": 255
        },
        "id": "mJMluQot_6EZ",
        "outputId": "cfffc40a-a07c-446b-afd4-0183cae3a205"
      },
      "execution_count": null,
      "outputs": [
        {
          "output_type": "execute_result",
          "data": {
            "text/plain": [
              "   Time        V1        V2        V3        V4        V5        V6        V7  \\\n",
              "0   0.0 -1.359807 -0.072781  2.536347  1.378155 -0.338321  0.462388  0.239599   \n",
              "1   0.0  1.191857  0.266151  0.166480  0.448154  0.060018 -0.082361 -0.078803   \n",
              "2   1.0 -1.358354 -1.340163  1.773209  0.379780 -0.503198  1.800499  0.791461   \n",
              "3   1.0 -0.966272 -0.185226  1.792993 -0.863291 -0.010309  1.247203  0.237609   \n",
              "4   2.0 -1.158233  0.877737  1.548718  0.403034 -0.407193  0.095921  0.592941   \n",
              "\n",
              "         V8        V9  ...       V21       V22       V23       V24       V25  \\\n",
              "0  0.098698  0.363787  ... -0.018307  0.277838 -0.110474  0.066928  0.128539   \n",
              "1  0.085102 -0.255425  ... -0.225775 -0.638672  0.101288 -0.339846  0.167170   \n",
              "2  0.247676 -1.514654  ...  0.247998  0.771679  0.909412 -0.689281 -0.327642   \n",
              "3  0.377436 -1.387024  ... -0.108300  0.005274 -0.190321 -1.175575  0.647376   \n",
              "4 -0.270533  0.817739  ... -0.009431  0.798278 -0.137458  0.141267 -0.206010   \n",
              "\n",
              "        V26       V27       V28  Amount  Class  \n",
              "0 -0.189115  0.133558 -0.021053  149.62      0  \n",
              "1  0.125895 -0.008983  0.014724    2.69      0  \n",
              "2 -0.139097 -0.055353 -0.059752  378.66      0  \n",
              "3 -0.221929  0.062723  0.061458  123.50      0  \n",
              "4  0.502292  0.219422  0.215153   69.99      0  \n",
              "\n",
              "[5 rows x 31 columns]"
            ],
            "text/html": [
              "\n",
              "  <div id=\"df-657991d1-895f-4db1-bad1-f27efec490b3\" class=\"colab-df-container\">\n",
              "    <div>\n",
              "<style scoped>\n",
              "    .dataframe tbody tr th:only-of-type {\n",
              "        vertical-align: middle;\n",
              "    }\n",
              "\n",
              "    .dataframe tbody tr th {\n",
              "        vertical-align: top;\n",
              "    }\n",
              "\n",
              "    .dataframe thead th {\n",
              "        text-align: right;\n",
              "    }\n",
              "</style>\n",
              "<table border=\"1\" class=\"dataframe\">\n",
              "  <thead>\n",
              "    <tr style=\"text-align: right;\">\n",
              "      <th></th>\n",
              "      <th>Time</th>\n",
              "      <th>V1</th>\n",
              "      <th>V2</th>\n",
              "      <th>V3</th>\n",
              "      <th>V4</th>\n",
              "      <th>V5</th>\n",
              "      <th>V6</th>\n",
              "      <th>V7</th>\n",
              "      <th>V8</th>\n",
              "      <th>V9</th>\n",
              "      <th>...</th>\n",
              "      <th>V21</th>\n",
              "      <th>V22</th>\n",
              "      <th>V23</th>\n",
              "      <th>V24</th>\n",
              "      <th>V25</th>\n",
              "      <th>V26</th>\n",
              "      <th>V27</th>\n",
              "      <th>V28</th>\n",
              "      <th>Amount</th>\n",
              "      <th>Class</th>\n",
              "    </tr>\n",
              "  </thead>\n",
              "  <tbody>\n",
              "    <tr>\n",
              "      <th>0</th>\n",
              "      <td>0.0</td>\n",
              "      <td>-1.359807</td>\n",
              "      <td>-0.072781</td>\n",
              "      <td>2.536347</td>\n",
              "      <td>1.378155</td>\n",
              "      <td>-0.338321</td>\n",
              "      <td>0.462388</td>\n",
              "      <td>0.239599</td>\n",
              "      <td>0.098698</td>\n",
              "      <td>0.363787</td>\n",
              "      <td>...</td>\n",
              "      <td>-0.018307</td>\n",
              "      <td>0.277838</td>\n",
              "      <td>-0.110474</td>\n",
              "      <td>0.066928</td>\n",
              "      <td>0.128539</td>\n",
              "      <td>-0.189115</td>\n",
              "      <td>0.133558</td>\n",
              "      <td>-0.021053</td>\n",
              "      <td>149.62</td>\n",
              "      <td>0</td>\n",
              "    </tr>\n",
              "    <tr>\n",
              "      <th>1</th>\n",
              "      <td>0.0</td>\n",
              "      <td>1.191857</td>\n",
              "      <td>0.266151</td>\n",
              "      <td>0.166480</td>\n",
              "      <td>0.448154</td>\n",
              "      <td>0.060018</td>\n",
              "      <td>-0.082361</td>\n",
              "      <td>-0.078803</td>\n",
              "      <td>0.085102</td>\n",
              "      <td>-0.255425</td>\n",
              "      <td>...</td>\n",
              "      <td>-0.225775</td>\n",
              "      <td>-0.638672</td>\n",
              "      <td>0.101288</td>\n",
              "      <td>-0.339846</td>\n",
              "      <td>0.167170</td>\n",
              "      <td>0.125895</td>\n",
              "      <td>-0.008983</td>\n",
              "      <td>0.014724</td>\n",
              "      <td>2.69</td>\n",
              "      <td>0</td>\n",
              "    </tr>\n",
              "    <tr>\n",
              "      <th>2</th>\n",
              "      <td>1.0</td>\n",
              "      <td>-1.358354</td>\n",
              "      <td>-1.340163</td>\n",
              "      <td>1.773209</td>\n",
              "      <td>0.379780</td>\n",
              "      <td>-0.503198</td>\n",
              "      <td>1.800499</td>\n",
              "      <td>0.791461</td>\n",
              "      <td>0.247676</td>\n",
              "      <td>-1.514654</td>\n",
              "      <td>...</td>\n",
              "      <td>0.247998</td>\n",
              "      <td>0.771679</td>\n",
              "      <td>0.909412</td>\n",
              "      <td>-0.689281</td>\n",
              "      <td>-0.327642</td>\n",
              "      <td>-0.139097</td>\n",
              "      <td>-0.055353</td>\n",
              "      <td>-0.059752</td>\n",
              "      <td>378.66</td>\n",
              "      <td>0</td>\n",
              "    </tr>\n",
              "    <tr>\n",
              "      <th>3</th>\n",
              "      <td>1.0</td>\n",
              "      <td>-0.966272</td>\n",
              "      <td>-0.185226</td>\n",
              "      <td>1.792993</td>\n",
              "      <td>-0.863291</td>\n",
              "      <td>-0.010309</td>\n",
              "      <td>1.247203</td>\n",
              "      <td>0.237609</td>\n",
              "      <td>0.377436</td>\n",
              "      <td>-1.387024</td>\n",
              "      <td>...</td>\n",
              "      <td>-0.108300</td>\n",
              "      <td>0.005274</td>\n",
              "      <td>-0.190321</td>\n",
              "      <td>-1.175575</td>\n",
              "      <td>0.647376</td>\n",
              "      <td>-0.221929</td>\n",
              "      <td>0.062723</td>\n",
              "      <td>0.061458</td>\n",
              "      <td>123.50</td>\n",
              "      <td>0</td>\n",
              "    </tr>\n",
              "    <tr>\n",
              "      <th>4</th>\n",
              "      <td>2.0</td>\n",
              "      <td>-1.158233</td>\n",
              "      <td>0.877737</td>\n",
              "      <td>1.548718</td>\n",
              "      <td>0.403034</td>\n",
              "      <td>-0.407193</td>\n",
              "      <td>0.095921</td>\n",
              "      <td>0.592941</td>\n",
              "      <td>-0.270533</td>\n",
              "      <td>0.817739</td>\n",
              "      <td>...</td>\n",
              "      <td>-0.009431</td>\n",
              "      <td>0.798278</td>\n",
              "      <td>-0.137458</td>\n",
              "      <td>0.141267</td>\n",
              "      <td>-0.206010</td>\n",
              "      <td>0.502292</td>\n",
              "      <td>0.219422</td>\n",
              "      <td>0.215153</td>\n",
              "      <td>69.99</td>\n",
              "      <td>0</td>\n",
              "    </tr>\n",
              "  </tbody>\n",
              "</table>\n",
              "<p>5 rows × 31 columns</p>\n",
              "</div>\n",
              "    <div class=\"colab-df-buttons\">\n",
              "\n",
              "  <div class=\"colab-df-container\">\n",
              "    <button class=\"colab-df-convert\" onclick=\"convertToInteractive('df-657991d1-895f-4db1-bad1-f27efec490b3')\"\n",
              "            title=\"Convert this dataframe to an interactive table.\"\n",
              "            style=\"display:none;\">\n",
              "\n",
              "  <svg xmlns=\"http://www.w3.org/2000/svg\" height=\"24px\" viewBox=\"0 -960 960 960\">\n",
              "    <path d=\"M120-120v-720h720v720H120Zm60-500h600v-160H180v160Zm220 220h160v-160H400v160Zm0 220h160v-160H400v160ZM180-400h160v-160H180v160Zm440 0h160v-160H620v160ZM180-180h160v-160H180v160Zm440 0h160v-160H620v160Z\"/>\n",
              "  </svg>\n",
              "    </button>\n",
              "\n",
              "  <style>\n",
              "    .colab-df-container {\n",
              "      display:flex;\n",
              "      gap: 12px;\n",
              "    }\n",
              "\n",
              "    .colab-df-convert {\n",
              "      background-color: #E8F0FE;\n",
              "      border: none;\n",
              "      border-radius: 50%;\n",
              "      cursor: pointer;\n",
              "      display: none;\n",
              "      fill: #1967D2;\n",
              "      height: 32px;\n",
              "      padding: 0 0 0 0;\n",
              "      width: 32px;\n",
              "    }\n",
              "\n",
              "    .colab-df-convert:hover {\n",
              "      background-color: #E2EBFA;\n",
              "      box-shadow: 0px 1px 2px rgba(60, 64, 67, 0.3), 0px 1px 3px 1px rgba(60, 64, 67, 0.15);\n",
              "      fill: #174EA6;\n",
              "    }\n",
              "\n",
              "    .colab-df-buttons div {\n",
              "      margin-bottom: 4px;\n",
              "    }\n",
              "\n",
              "    [theme=dark] .colab-df-convert {\n",
              "      background-color: #3B4455;\n",
              "      fill: #D2E3FC;\n",
              "    }\n",
              "\n",
              "    [theme=dark] .colab-df-convert:hover {\n",
              "      background-color: #434B5C;\n",
              "      box-shadow: 0px 1px 3px 1px rgba(0, 0, 0, 0.15);\n",
              "      filter: drop-shadow(0px 1px 2px rgba(0, 0, 0, 0.3));\n",
              "      fill: #FFFFFF;\n",
              "    }\n",
              "  </style>\n",
              "\n",
              "    <script>\n",
              "      const buttonEl =\n",
              "        document.querySelector('#df-657991d1-895f-4db1-bad1-f27efec490b3 button.colab-df-convert');\n",
              "      buttonEl.style.display =\n",
              "        google.colab.kernel.accessAllowed ? 'block' : 'none';\n",
              "\n",
              "      async function convertToInteractive(key) {\n",
              "        const element = document.querySelector('#df-657991d1-895f-4db1-bad1-f27efec490b3');\n",
              "        const dataTable =\n",
              "          await google.colab.kernel.invokeFunction('convertToInteractive',\n",
              "                                                    [key], {});\n",
              "        if (!dataTable) return;\n",
              "\n",
              "        const docLinkHtml = 'Like what you see? Visit the ' +\n",
              "          '<a target=\"_blank\" href=https://colab.research.google.com/notebooks/data_table.ipynb>data table notebook</a>'\n",
              "          + ' to learn more about interactive tables.';\n",
              "        element.innerHTML = '';\n",
              "        dataTable['output_type'] = 'display_data';\n",
              "        await google.colab.output.renderOutput(dataTable, element);\n",
              "        const docLink = document.createElement('div');\n",
              "        docLink.innerHTML = docLinkHtml;\n",
              "        element.appendChild(docLink);\n",
              "      }\n",
              "    </script>\n",
              "  </div>\n",
              "\n",
              "\n",
              "<div id=\"df-580d3763-3281-4703-b482-bfe4d681cb0e\">\n",
              "  <button class=\"colab-df-quickchart\" onclick=\"quickchart('df-580d3763-3281-4703-b482-bfe4d681cb0e')\"\n",
              "            title=\"Suggest charts\"\n",
              "            style=\"display:none;\">\n",
              "\n",
              "<svg xmlns=\"http://www.w3.org/2000/svg\" height=\"24px\"viewBox=\"0 0 24 24\"\n",
              "     width=\"24px\">\n",
              "    <g>\n",
              "        <path d=\"M19 3H5c-1.1 0-2 .9-2 2v14c0 1.1.9 2 2 2h14c1.1 0 2-.9 2-2V5c0-1.1-.9-2-2-2zM9 17H7v-7h2v7zm4 0h-2V7h2v10zm4 0h-2v-4h2v4z\"/>\n",
              "    </g>\n",
              "</svg>\n",
              "  </button>\n",
              "\n",
              "<style>\n",
              "  .colab-df-quickchart {\n",
              "      --bg-color: #E8F0FE;\n",
              "      --fill-color: #1967D2;\n",
              "      --hover-bg-color: #E2EBFA;\n",
              "      --hover-fill-color: #174EA6;\n",
              "      --disabled-fill-color: #AAA;\n",
              "      --disabled-bg-color: #DDD;\n",
              "  }\n",
              "\n",
              "  [theme=dark] .colab-df-quickchart {\n",
              "      --bg-color: #3B4455;\n",
              "      --fill-color: #D2E3FC;\n",
              "      --hover-bg-color: #434B5C;\n",
              "      --hover-fill-color: #FFFFFF;\n",
              "      --disabled-bg-color: #3B4455;\n",
              "      --disabled-fill-color: #666;\n",
              "  }\n",
              "\n",
              "  .colab-df-quickchart {\n",
              "    background-color: var(--bg-color);\n",
              "    border: none;\n",
              "    border-radius: 50%;\n",
              "    cursor: pointer;\n",
              "    display: none;\n",
              "    fill: var(--fill-color);\n",
              "    height: 32px;\n",
              "    padding: 0;\n",
              "    width: 32px;\n",
              "  }\n",
              "\n",
              "  .colab-df-quickchart:hover {\n",
              "    background-color: var(--hover-bg-color);\n",
              "    box-shadow: 0 1px 2px rgba(60, 64, 67, 0.3), 0 1px 3px 1px rgba(60, 64, 67, 0.15);\n",
              "    fill: var(--button-hover-fill-color);\n",
              "  }\n",
              "\n",
              "  .colab-df-quickchart-complete:disabled,\n",
              "  .colab-df-quickchart-complete:disabled:hover {\n",
              "    background-color: var(--disabled-bg-color);\n",
              "    fill: var(--disabled-fill-color);\n",
              "    box-shadow: none;\n",
              "  }\n",
              "\n",
              "  .colab-df-spinner {\n",
              "    border: 2px solid var(--fill-color);\n",
              "    border-color: transparent;\n",
              "    border-bottom-color: var(--fill-color);\n",
              "    animation:\n",
              "      spin 1s steps(1) infinite;\n",
              "  }\n",
              "\n",
              "  @keyframes spin {\n",
              "    0% {\n",
              "      border-color: transparent;\n",
              "      border-bottom-color: var(--fill-color);\n",
              "      border-left-color: var(--fill-color);\n",
              "    }\n",
              "    20% {\n",
              "      border-color: transparent;\n",
              "      border-left-color: var(--fill-color);\n",
              "      border-top-color: var(--fill-color);\n",
              "    }\n",
              "    30% {\n",
              "      border-color: transparent;\n",
              "      border-left-color: var(--fill-color);\n",
              "      border-top-color: var(--fill-color);\n",
              "      border-right-color: var(--fill-color);\n",
              "    }\n",
              "    40% {\n",
              "      border-color: transparent;\n",
              "      border-right-color: var(--fill-color);\n",
              "      border-top-color: var(--fill-color);\n",
              "    }\n",
              "    60% {\n",
              "      border-color: transparent;\n",
              "      border-right-color: var(--fill-color);\n",
              "    }\n",
              "    80% {\n",
              "      border-color: transparent;\n",
              "      border-right-color: var(--fill-color);\n",
              "      border-bottom-color: var(--fill-color);\n",
              "    }\n",
              "    90% {\n",
              "      border-color: transparent;\n",
              "      border-bottom-color: var(--fill-color);\n",
              "    }\n",
              "  }\n",
              "</style>\n",
              "\n",
              "  <script>\n",
              "    async function quickchart(key) {\n",
              "      const quickchartButtonEl =\n",
              "        document.querySelector('#' + key + ' button');\n",
              "      quickchartButtonEl.disabled = true;  // To prevent multiple clicks.\n",
              "      quickchartButtonEl.classList.add('colab-df-spinner');\n",
              "      try {\n",
              "        const charts = await google.colab.kernel.invokeFunction(\n",
              "            'suggestCharts', [key], {});\n",
              "      } catch (error) {\n",
              "        console.error('Error during call to suggestCharts:', error);\n",
              "      }\n",
              "      quickchartButtonEl.classList.remove('colab-df-spinner');\n",
              "      quickchartButtonEl.classList.add('colab-df-quickchart-complete');\n",
              "    }\n",
              "    (() => {\n",
              "      let quickchartButtonEl =\n",
              "        document.querySelector('#df-580d3763-3281-4703-b482-bfe4d681cb0e button');\n",
              "      quickchartButtonEl.style.display =\n",
              "        google.colab.kernel.accessAllowed ? 'block' : 'none';\n",
              "    })();\n",
              "  </script>\n",
              "</div>\n",
              "\n",
              "    </div>\n",
              "  </div>\n"
            ],
            "application/vnd.google.colaboratory.intrinsic+json": {
              "type": "dataframe",
              "variable_name": "df"
            }
          },
          "metadata": {},
          "execution_count": 30
        }
      ]
    },
    {
      "cell_type": "code",
      "source": [
        "df.isnull().sum()\n",
        "#no null values present"
      ],
      "metadata": {
        "colab": {
          "base_uri": "https://localhost:8080/"
        },
        "id": "9QX8DYz9AUBc",
        "outputId": "07843337-462c-4e51-fc33-b5b69de54027"
      },
      "execution_count": null,
      "outputs": [
        {
          "output_type": "execute_result",
          "data": {
            "text/plain": [
              "Time      0\n",
              "V1        0\n",
              "V2        0\n",
              "V3        0\n",
              "V4        0\n",
              "V5        0\n",
              "V6        0\n",
              "V7        0\n",
              "V8        0\n",
              "V9        0\n",
              "V10       0\n",
              "V11       0\n",
              "V12       0\n",
              "V13       0\n",
              "V14       0\n",
              "V15       0\n",
              "V16       0\n",
              "V17       0\n",
              "V18       0\n",
              "V19       0\n",
              "V20       0\n",
              "V21       0\n",
              "V22       0\n",
              "V23       0\n",
              "V24       0\n",
              "V25       0\n",
              "V26       0\n",
              "V27       0\n",
              "V28       0\n",
              "Amount    0\n",
              "Class     0\n",
              "dtype: int64"
            ]
          },
          "metadata": {},
          "execution_count": 31
        }
      ]
    },
    {
      "cell_type": "code",
      "source": [
        "#drop unnecessary 'time' column\n",
        "df.drop('Time', axis=1, inplace=True)\n",
        "df.head()"
      ],
      "metadata": {
        "colab": {
          "base_uri": "https://localhost:8080/",
          "height": 255
        },
        "id": "RjAbPZwFBYUZ",
        "outputId": "c1f144f0-c734-44c1-8668-c9a01a6b5720"
      },
      "execution_count": null,
      "outputs": [
        {
          "output_type": "execute_result",
          "data": {
            "text/plain": [
              "         V1        V2        V3        V4        V5        V6        V7  \\\n",
              "0 -1.359807 -0.072781  2.536347  1.378155 -0.338321  0.462388  0.239599   \n",
              "1  1.191857  0.266151  0.166480  0.448154  0.060018 -0.082361 -0.078803   \n",
              "2 -1.358354 -1.340163  1.773209  0.379780 -0.503198  1.800499  0.791461   \n",
              "3 -0.966272 -0.185226  1.792993 -0.863291 -0.010309  1.247203  0.237609   \n",
              "4 -1.158233  0.877737  1.548718  0.403034 -0.407193  0.095921  0.592941   \n",
              "\n",
              "         V8        V9       V10  ...       V21       V22       V23       V24  \\\n",
              "0  0.098698  0.363787  0.090794  ... -0.018307  0.277838 -0.110474  0.066928   \n",
              "1  0.085102 -0.255425 -0.166974  ... -0.225775 -0.638672  0.101288 -0.339846   \n",
              "2  0.247676 -1.514654  0.207643  ...  0.247998  0.771679  0.909412 -0.689281   \n",
              "3  0.377436 -1.387024 -0.054952  ... -0.108300  0.005274 -0.190321 -1.175575   \n",
              "4 -0.270533  0.817739  0.753074  ... -0.009431  0.798278 -0.137458  0.141267   \n",
              "\n",
              "        V25       V26       V27       V28  Amount  Class  \n",
              "0  0.128539 -0.189115  0.133558 -0.021053  149.62      0  \n",
              "1  0.167170  0.125895 -0.008983  0.014724    2.69      0  \n",
              "2 -0.327642 -0.139097 -0.055353 -0.059752  378.66      0  \n",
              "3  0.647376 -0.221929  0.062723  0.061458  123.50      0  \n",
              "4 -0.206010  0.502292  0.219422  0.215153   69.99      0  \n",
              "\n",
              "[5 rows x 30 columns]"
            ],
            "text/html": [
              "\n",
              "  <div id=\"df-28975b17-e2c1-42a0-bd87-9e43b3faba88\" class=\"colab-df-container\">\n",
              "    <div>\n",
              "<style scoped>\n",
              "    .dataframe tbody tr th:only-of-type {\n",
              "        vertical-align: middle;\n",
              "    }\n",
              "\n",
              "    .dataframe tbody tr th {\n",
              "        vertical-align: top;\n",
              "    }\n",
              "\n",
              "    .dataframe thead th {\n",
              "        text-align: right;\n",
              "    }\n",
              "</style>\n",
              "<table border=\"1\" class=\"dataframe\">\n",
              "  <thead>\n",
              "    <tr style=\"text-align: right;\">\n",
              "      <th></th>\n",
              "      <th>V1</th>\n",
              "      <th>V2</th>\n",
              "      <th>V3</th>\n",
              "      <th>V4</th>\n",
              "      <th>V5</th>\n",
              "      <th>V6</th>\n",
              "      <th>V7</th>\n",
              "      <th>V8</th>\n",
              "      <th>V9</th>\n",
              "      <th>V10</th>\n",
              "      <th>...</th>\n",
              "      <th>V21</th>\n",
              "      <th>V22</th>\n",
              "      <th>V23</th>\n",
              "      <th>V24</th>\n",
              "      <th>V25</th>\n",
              "      <th>V26</th>\n",
              "      <th>V27</th>\n",
              "      <th>V28</th>\n",
              "      <th>Amount</th>\n",
              "      <th>Class</th>\n",
              "    </tr>\n",
              "  </thead>\n",
              "  <tbody>\n",
              "    <tr>\n",
              "      <th>0</th>\n",
              "      <td>-1.359807</td>\n",
              "      <td>-0.072781</td>\n",
              "      <td>2.536347</td>\n",
              "      <td>1.378155</td>\n",
              "      <td>-0.338321</td>\n",
              "      <td>0.462388</td>\n",
              "      <td>0.239599</td>\n",
              "      <td>0.098698</td>\n",
              "      <td>0.363787</td>\n",
              "      <td>0.090794</td>\n",
              "      <td>...</td>\n",
              "      <td>-0.018307</td>\n",
              "      <td>0.277838</td>\n",
              "      <td>-0.110474</td>\n",
              "      <td>0.066928</td>\n",
              "      <td>0.128539</td>\n",
              "      <td>-0.189115</td>\n",
              "      <td>0.133558</td>\n",
              "      <td>-0.021053</td>\n",
              "      <td>149.62</td>\n",
              "      <td>0</td>\n",
              "    </tr>\n",
              "    <tr>\n",
              "      <th>1</th>\n",
              "      <td>1.191857</td>\n",
              "      <td>0.266151</td>\n",
              "      <td>0.166480</td>\n",
              "      <td>0.448154</td>\n",
              "      <td>0.060018</td>\n",
              "      <td>-0.082361</td>\n",
              "      <td>-0.078803</td>\n",
              "      <td>0.085102</td>\n",
              "      <td>-0.255425</td>\n",
              "      <td>-0.166974</td>\n",
              "      <td>...</td>\n",
              "      <td>-0.225775</td>\n",
              "      <td>-0.638672</td>\n",
              "      <td>0.101288</td>\n",
              "      <td>-0.339846</td>\n",
              "      <td>0.167170</td>\n",
              "      <td>0.125895</td>\n",
              "      <td>-0.008983</td>\n",
              "      <td>0.014724</td>\n",
              "      <td>2.69</td>\n",
              "      <td>0</td>\n",
              "    </tr>\n",
              "    <tr>\n",
              "      <th>2</th>\n",
              "      <td>-1.358354</td>\n",
              "      <td>-1.340163</td>\n",
              "      <td>1.773209</td>\n",
              "      <td>0.379780</td>\n",
              "      <td>-0.503198</td>\n",
              "      <td>1.800499</td>\n",
              "      <td>0.791461</td>\n",
              "      <td>0.247676</td>\n",
              "      <td>-1.514654</td>\n",
              "      <td>0.207643</td>\n",
              "      <td>...</td>\n",
              "      <td>0.247998</td>\n",
              "      <td>0.771679</td>\n",
              "      <td>0.909412</td>\n",
              "      <td>-0.689281</td>\n",
              "      <td>-0.327642</td>\n",
              "      <td>-0.139097</td>\n",
              "      <td>-0.055353</td>\n",
              "      <td>-0.059752</td>\n",
              "      <td>378.66</td>\n",
              "      <td>0</td>\n",
              "    </tr>\n",
              "    <tr>\n",
              "      <th>3</th>\n",
              "      <td>-0.966272</td>\n",
              "      <td>-0.185226</td>\n",
              "      <td>1.792993</td>\n",
              "      <td>-0.863291</td>\n",
              "      <td>-0.010309</td>\n",
              "      <td>1.247203</td>\n",
              "      <td>0.237609</td>\n",
              "      <td>0.377436</td>\n",
              "      <td>-1.387024</td>\n",
              "      <td>-0.054952</td>\n",
              "      <td>...</td>\n",
              "      <td>-0.108300</td>\n",
              "      <td>0.005274</td>\n",
              "      <td>-0.190321</td>\n",
              "      <td>-1.175575</td>\n",
              "      <td>0.647376</td>\n",
              "      <td>-0.221929</td>\n",
              "      <td>0.062723</td>\n",
              "      <td>0.061458</td>\n",
              "      <td>123.50</td>\n",
              "      <td>0</td>\n",
              "    </tr>\n",
              "    <tr>\n",
              "      <th>4</th>\n",
              "      <td>-1.158233</td>\n",
              "      <td>0.877737</td>\n",
              "      <td>1.548718</td>\n",
              "      <td>0.403034</td>\n",
              "      <td>-0.407193</td>\n",
              "      <td>0.095921</td>\n",
              "      <td>0.592941</td>\n",
              "      <td>-0.270533</td>\n",
              "      <td>0.817739</td>\n",
              "      <td>0.753074</td>\n",
              "      <td>...</td>\n",
              "      <td>-0.009431</td>\n",
              "      <td>0.798278</td>\n",
              "      <td>-0.137458</td>\n",
              "      <td>0.141267</td>\n",
              "      <td>-0.206010</td>\n",
              "      <td>0.502292</td>\n",
              "      <td>0.219422</td>\n",
              "      <td>0.215153</td>\n",
              "      <td>69.99</td>\n",
              "      <td>0</td>\n",
              "    </tr>\n",
              "  </tbody>\n",
              "</table>\n",
              "<p>5 rows × 30 columns</p>\n",
              "</div>\n",
              "    <div class=\"colab-df-buttons\">\n",
              "\n",
              "  <div class=\"colab-df-container\">\n",
              "    <button class=\"colab-df-convert\" onclick=\"convertToInteractive('df-28975b17-e2c1-42a0-bd87-9e43b3faba88')\"\n",
              "            title=\"Convert this dataframe to an interactive table.\"\n",
              "            style=\"display:none;\">\n",
              "\n",
              "  <svg xmlns=\"http://www.w3.org/2000/svg\" height=\"24px\" viewBox=\"0 -960 960 960\">\n",
              "    <path d=\"M120-120v-720h720v720H120Zm60-500h600v-160H180v160Zm220 220h160v-160H400v160Zm0 220h160v-160H400v160ZM180-400h160v-160H180v160Zm440 0h160v-160H620v160ZM180-180h160v-160H180v160Zm440 0h160v-160H620v160Z\"/>\n",
              "  </svg>\n",
              "    </button>\n",
              "\n",
              "  <style>\n",
              "    .colab-df-container {\n",
              "      display:flex;\n",
              "      gap: 12px;\n",
              "    }\n",
              "\n",
              "    .colab-df-convert {\n",
              "      background-color: #E8F0FE;\n",
              "      border: none;\n",
              "      border-radius: 50%;\n",
              "      cursor: pointer;\n",
              "      display: none;\n",
              "      fill: #1967D2;\n",
              "      height: 32px;\n",
              "      padding: 0 0 0 0;\n",
              "      width: 32px;\n",
              "    }\n",
              "\n",
              "    .colab-df-convert:hover {\n",
              "      background-color: #E2EBFA;\n",
              "      box-shadow: 0px 1px 2px rgba(60, 64, 67, 0.3), 0px 1px 3px 1px rgba(60, 64, 67, 0.15);\n",
              "      fill: #174EA6;\n",
              "    }\n",
              "\n",
              "    .colab-df-buttons div {\n",
              "      margin-bottom: 4px;\n",
              "    }\n",
              "\n",
              "    [theme=dark] .colab-df-convert {\n",
              "      background-color: #3B4455;\n",
              "      fill: #D2E3FC;\n",
              "    }\n",
              "\n",
              "    [theme=dark] .colab-df-convert:hover {\n",
              "      background-color: #434B5C;\n",
              "      box-shadow: 0px 1px 3px 1px rgba(0, 0, 0, 0.15);\n",
              "      filter: drop-shadow(0px 1px 2px rgba(0, 0, 0, 0.3));\n",
              "      fill: #FFFFFF;\n",
              "    }\n",
              "  </style>\n",
              "\n",
              "    <script>\n",
              "      const buttonEl =\n",
              "        document.querySelector('#df-28975b17-e2c1-42a0-bd87-9e43b3faba88 button.colab-df-convert');\n",
              "      buttonEl.style.display =\n",
              "        google.colab.kernel.accessAllowed ? 'block' : 'none';\n",
              "\n",
              "      async function convertToInteractive(key) {\n",
              "        const element = document.querySelector('#df-28975b17-e2c1-42a0-bd87-9e43b3faba88');\n",
              "        const dataTable =\n",
              "          await google.colab.kernel.invokeFunction('convertToInteractive',\n",
              "                                                    [key], {});\n",
              "        if (!dataTable) return;\n",
              "\n",
              "        const docLinkHtml = 'Like what you see? Visit the ' +\n",
              "          '<a target=\"_blank\" href=https://colab.research.google.com/notebooks/data_table.ipynb>data table notebook</a>'\n",
              "          + ' to learn more about interactive tables.';\n",
              "        element.innerHTML = '';\n",
              "        dataTable['output_type'] = 'display_data';\n",
              "        await google.colab.output.renderOutput(dataTable, element);\n",
              "        const docLink = document.createElement('div');\n",
              "        docLink.innerHTML = docLinkHtml;\n",
              "        element.appendChild(docLink);\n",
              "      }\n",
              "    </script>\n",
              "  </div>\n",
              "\n",
              "\n",
              "<div id=\"df-2b093078-4e3d-4954-80d6-b5329824a852\">\n",
              "  <button class=\"colab-df-quickchart\" onclick=\"quickchart('df-2b093078-4e3d-4954-80d6-b5329824a852')\"\n",
              "            title=\"Suggest charts\"\n",
              "            style=\"display:none;\">\n",
              "\n",
              "<svg xmlns=\"http://www.w3.org/2000/svg\" height=\"24px\"viewBox=\"0 0 24 24\"\n",
              "     width=\"24px\">\n",
              "    <g>\n",
              "        <path d=\"M19 3H5c-1.1 0-2 .9-2 2v14c0 1.1.9 2 2 2h14c1.1 0 2-.9 2-2V5c0-1.1-.9-2-2-2zM9 17H7v-7h2v7zm4 0h-2V7h2v10zm4 0h-2v-4h2v4z\"/>\n",
              "    </g>\n",
              "</svg>\n",
              "  </button>\n",
              "\n",
              "<style>\n",
              "  .colab-df-quickchart {\n",
              "      --bg-color: #E8F0FE;\n",
              "      --fill-color: #1967D2;\n",
              "      --hover-bg-color: #E2EBFA;\n",
              "      --hover-fill-color: #174EA6;\n",
              "      --disabled-fill-color: #AAA;\n",
              "      --disabled-bg-color: #DDD;\n",
              "  }\n",
              "\n",
              "  [theme=dark] .colab-df-quickchart {\n",
              "      --bg-color: #3B4455;\n",
              "      --fill-color: #D2E3FC;\n",
              "      --hover-bg-color: #434B5C;\n",
              "      --hover-fill-color: #FFFFFF;\n",
              "      --disabled-bg-color: #3B4455;\n",
              "      --disabled-fill-color: #666;\n",
              "  }\n",
              "\n",
              "  .colab-df-quickchart {\n",
              "    background-color: var(--bg-color);\n",
              "    border: none;\n",
              "    border-radius: 50%;\n",
              "    cursor: pointer;\n",
              "    display: none;\n",
              "    fill: var(--fill-color);\n",
              "    height: 32px;\n",
              "    padding: 0;\n",
              "    width: 32px;\n",
              "  }\n",
              "\n",
              "  .colab-df-quickchart:hover {\n",
              "    background-color: var(--hover-bg-color);\n",
              "    box-shadow: 0 1px 2px rgba(60, 64, 67, 0.3), 0 1px 3px 1px rgba(60, 64, 67, 0.15);\n",
              "    fill: var(--button-hover-fill-color);\n",
              "  }\n",
              "\n",
              "  .colab-df-quickchart-complete:disabled,\n",
              "  .colab-df-quickchart-complete:disabled:hover {\n",
              "    background-color: var(--disabled-bg-color);\n",
              "    fill: var(--disabled-fill-color);\n",
              "    box-shadow: none;\n",
              "  }\n",
              "\n",
              "  .colab-df-spinner {\n",
              "    border: 2px solid var(--fill-color);\n",
              "    border-color: transparent;\n",
              "    border-bottom-color: var(--fill-color);\n",
              "    animation:\n",
              "      spin 1s steps(1) infinite;\n",
              "  }\n",
              "\n",
              "  @keyframes spin {\n",
              "    0% {\n",
              "      border-color: transparent;\n",
              "      border-bottom-color: var(--fill-color);\n",
              "      border-left-color: var(--fill-color);\n",
              "    }\n",
              "    20% {\n",
              "      border-color: transparent;\n",
              "      border-left-color: var(--fill-color);\n",
              "      border-top-color: var(--fill-color);\n",
              "    }\n",
              "    30% {\n",
              "      border-color: transparent;\n",
              "      border-left-color: var(--fill-color);\n",
              "      border-top-color: var(--fill-color);\n",
              "      border-right-color: var(--fill-color);\n",
              "    }\n",
              "    40% {\n",
              "      border-color: transparent;\n",
              "      border-right-color: var(--fill-color);\n",
              "      border-top-color: var(--fill-color);\n",
              "    }\n",
              "    60% {\n",
              "      border-color: transparent;\n",
              "      border-right-color: var(--fill-color);\n",
              "    }\n",
              "    80% {\n",
              "      border-color: transparent;\n",
              "      border-right-color: var(--fill-color);\n",
              "      border-bottom-color: var(--fill-color);\n",
              "    }\n",
              "    90% {\n",
              "      border-color: transparent;\n",
              "      border-bottom-color: var(--fill-color);\n",
              "    }\n",
              "  }\n",
              "</style>\n",
              "\n",
              "  <script>\n",
              "    async function quickchart(key) {\n",
              "      const quickchartButtonEl =\n",
              "        document.querySelector('#' + key + ' button');\n",
              "      quickchartButtonEl.disabled = true;  // To prevent multiple clicks.\n",
              "      quickchartButtonEl.classList.add('colab-df-spinner');\n",
              "      try {\n",
              "        const charts = await google.colab.kernel.invokeFunction(\n",
              "            'suggestCharts', [key], {});\n",
              "      } catch (error) {\n",
              "        console.error('Error during call to suggestCharts:', error);\n",
              "      }\n",
              "      quickchartButtonEl.classList.remove('colab-df-spinner');\n",
              "      quickchartButtonEl.classList.add('colab-df-quickchart-complete');\n",
              "    }\n",
              "    (() => {\n",
              "      let quickchartButtonEl =\n",
              "        document.querySelector('#df-2b093078-4e3d-4954-80d6-b5329824a852 button');\n",
              "      quickchartButtonEl.style.display =\n",
              "        google.colab.kernel.accessAllowed ? 'block' : 'none';\n",
              "    })();\n",
              "  </script>\n",
              "</div>\n",
              "\n",
              "    </div>\n",
              "  </div>\n"
            ],
            "application/vnd.google.colaboratory.intrinsic+json": {
              "type": "dataframe",
              "variable_name": "df"
            }
          },
          "metadata": {},
          "execution_count": 2
        }
      ]
    },
    {
      "cell_type": "code",
      "source": [
        "#let us check value count of target variable\n",
        "df['Class'].value_counts()\n",
        "#as we can see it is a highly inbalanced dataset"
      ],
      "metadata": {
        "colab": {
          "base_uri": "https://localhost:8080/"
        },
        "id": "4qCl6L2wBjNF",
        "outputId": "ad8985d6-cf77-4804-c54b-046dfae4d473"
      },
      "execution_count": null,
      "outputs": [
        {
          "output_type": "execute_result",
          "data": {
            "text/plain": [
              "Class\n",
              "0    284315\n",
              "1       492\n",
              "Name: count, dtype: int64"
            ]
          },
          "metadata": {},
          "execution_count": 33
        }
      ]
    },
    {
      "cell_type": "code",
      "source": [
        "import seaborn as sns\n",
        "sns.heatmap(df.corr())"
      ],
      "metadata": {
        "colab": {
          "base_uri": "https://localhost:8080/",
          "height": 494
        },
        "id": "w1sgtdwlB59O",
        "outputId": "75ed75ad-b4b8-4ea9-8eef-69b1a48aa444"
      },
      "execution_count": null,
      "outputs": [
        {
          "output_type": "execute_result",
          "data": {
            "text/plain": [
              "<Axes: >"
            ]
          },
          "metadata": {},
          "execution_count": 3
        },
        {
          "output_type": "display_data",
          "data": {
            "text/plain": [
              "<Figure size 640x480 with 2 Axes>"
            ],
            "image/png": "[encoded data removed]"
          },
          "metadata": {}
        }
      ]
    },
    {
      "cell_type": "code",
      "source": [
        "#seperating the features and the target\n",
        "X = df.drop('Class', axis=1)\n",
        "Y = df['Class']"
      ],
      "metadata": {
        "id": "LorHOet2CVAn"
      },
      "execution_count": null,
      "outputs": []
    },
    {
      "cell_type": "code",
      "source": [
        "X.shape"
      ],
      "metadata": {
        "colab": {
          "base_uri": "https://localhost:8080/"
        },
        "id": "dazSgEIGDYbi",
        "outputId": "1dbbbda1-2563-48cd-d0ca-af24973a3d82"
      },
      "execution_count": null,
      "outputs": [
        {
          "output_type": "execute_result",
          "data": {
            "text/plain": [
              "(284807, 29)"
            ]
          },
          "metadata": {},
          "execution_count": 37
        }
      ]
    },
    {
      "cell_type": "code",
      "source": [
        "X.shape[1]"
      ],
      "metadata": {
        "colab": {
          "base_uri": "https://localhost:8080/"
        },
        "id": "mJW6OsSTFYE-",
        "outputId": "4438326f-9fbb-48d5-acf1-aa13df60c537"
      },
      "execution_count": null,
      "outputs": [
        {
          "output_type": "execute_result",
          "data": {
            "text/plain": [
              "29"
            ]
          },
          "metadata": {},
          "execution_count": 38
        }
      ]
    },
    {
      "cell_type": "code",
      "source": [
        "Y"
      ],
      "metadata": {
        "colab": {
          "base_uri": "https://localhost:8080/"
        },
        "id": "Hd1YtvxqDZZB",
        "outputId": "e498f89b-513d-4b4a-9e7c-529280342fc6"
      },
      "execution_count": null,
      "outputs": [
        {
          "output_type": "execute_result",
          "data": {
            "text/plain": [
              "0         0\n",
              "1         0\n",
              "2         0\n",
              "3         0\n",
              "4         0\n",
              "         ..\n",
              "284802    0\n",
              "284803    0\n",
              "284804    0\n",
              "284805    0\n",
              "284806    0\n",
              "Name: Class, Length: 284807, dtype: int64"
            ]
          },
          "metadata": {},
          "execution_count": 39
        }
      ]
    },
    {
      "cell_type": "code",
      "source": [
        "\n",
        "X"
      ],
      "metadata": {
        "colab": {
          "base_uri": "https://localhost:8080/"
        },
        "id": "gHH5cD7xDn76",
        "outputId": "b787eb03-2ea6-4fa5-c781-656a97ca55d5"
      },
      "execution_count": null,
      "outputs": [
        {
          "output_type": "execute_result",
          "data": {
            "text/plain": [
              "array([[-0.69424232, -0.04407492,  1.6727735 , ...,  0.33089162,\n",
              "        -0.06378115,  0.24496426],\n",
              "       [ 0.60849633,  0.16117592,  0.1097971 , ..., -0.02225568,\n",
              "         0.04460752, -0.34247454],\n",
              "       [-0.69350046, -0.81157783,  1.16946849, ..., -0.13713686,\n",
              "        -0.18102083,  1.16068593],\n",
              "       ...,\n",
              "       [ 0.98002374, -0.18243372, -2.14320514, ...,  0.01103672,\n",
              "        -0.0804672 , -0.0818393 ],\n",
              "       [-0.12275539,  0.32125034,  0.46332013, ...,  0.26960398,\n",
              "         0.31668678, -0.31324853],\n",
              "       [-0.27233093, -0.11489898,  0.46386564, ..., -0.00598394,\n",
              "         0.04134998,  0.51435531]])"
            ]
          },
          "metadata": {},
          "execution_count": 42
        }
      ]
    },
    {
      "cell_type": "code",
      "source": [
        "#splitting datast into training and test set\n",
        "from sklearn.model_selection import train_test_split\n",
        "X_train, X_test, Y_train, Y_test = train_test_split(X, Y, test_size=0.2, random_state=0)"
      ],
      "metadata": {
        "id": "p9EXpLiyG8-S"
      },
      "execution_count": null,
      "outputs": []
    },
    {
      "cell_type": "code",
      "source": [
        "#standard noramlizing the data\n",
        "from sklearn.preprocessing import StandardScaler\n",
        "scaler = StandardScaler()\n",
        "X_train = scaler.fit_transform(X)\n",
        "X_test = scaler.transform(X)"
      ],
      "metadata": {
        "id": "zxCqAZUiBamL"
      },
      "execution_count": null,
      "outputs": []
    },
    {
      "cell_type": "code",
      "source": [
        "#inporting the required libraries\n",
        "import keras\n",
        "from keras.layers import Dense\n",
        "from keras.layers import LeakyReLU,PReLU,ELU\n",
        "from keras.models import Sequential\n",
        "from keras.layers import Dropout\n"
      ],
      "metadata": {
        "id": "PV9Dy1mbDrA9"
      },
      "execution_count": null,
      "outputs": []
    },
    {
      "cell_type": "code",
      "source": [
        "#initializing ANN\n",
        "classifier = Sequential()\n"
      ],
      "metadata": {
        "id": "qWGwC1-pEHIF"
      },
      "execution_count": null,
      "outputs": []
    },
    {
      "cell_type": "code",
      "source": [
        "#adding imput layer and first hidden layer\n",
        "classifier.add(Dense(units=10,kernel_initializer=\"he_normal\",activation=\"relu\",input_dim=X.shape[1]))\n",
        "classifier.add(Dropout(0.3))\n",
        "#units=output_dim: no of neurons in layer\n",
        "#kernel_initializer = init : weight initializer\n",
        "#activation: specify activation function\n",
        "#input_dim: no of features/columns in training dataset (only used in forst dense addition)\n",
        "\n",
        "#this creats neural network with 11 input nodes/nuerons and 6 1st hidden layer neurons\n",
        "\n",
        "#now trying to increase neurons/units and using he_normal weight initalizer\n",
        "\n",
        "#now adding dropout\n",
        "#adding second hidden layer\n",
        "classifier.add(Dense(units=20,kernel_initializer = \"he_normal\",activation=\"relu\"))\n",
        "classifier.add(Dropout(0.4))\n",
        "#adds six nodes/nuerons in second hidden layer\n",
        "\n",
        "#now trying to increase neurons/units and using he_normal weight initalizer\n",
        "\n",
        "#now adding dropout\n",
        "#adding third hidden layer\n",
        "classifier.add(Dense(units=15,kernel_initializer = \"he_normal\",activation=\"relu\"))\n",
        "classifier.add(Dropout(0.2))\n",
        "\n",
        "#added another hidden layer\n",
        "#now trying to increase neurons/units and using he_normal weight initalizer\n",
        "\n",
        "#now adding dropout\n",
        "#adding output layer\n",
        "classifier.add(Dense(units=1,kernel_initializer = \"he_normal\",activation=\"sigmoid\"))\n",
        "#1 node/neuron created as output\n",
        "\n",
        "#no dropout here cuz output layer"
      ],
      "metadata": {
        "id": "ZpskXBsyEKqJ"
      },
      "execution_count": null,
      "outputs": []
    },
    {
      "cell_type": "code",
      "source": [
        "classifier.summary()"
      ],
      "metadata": {
        "colab": {
          "base_uri": "https://localhost:8080/"
        },
        "id": "bQnJvQJBGnGp",
        "outputId": "4e2e2af3-6f25-434b-97bf-daa425eb51c8"
      },
      "execution_count": null,
      "outputs": [
        {
          "output_type": "stream",
          "name": "stdout",
          "text": [
            "Model: \"sequential_1\"\n",
            "_________________________________________________________________\n",
            " Layer (type)                Output Shape              Param #   \n",
            "=================================================================\n",
            " dense_4 (Dense)             (None, 10)                300       \n",
            "                                                                 \n",
            " dropout_3 (Dropout)         (None, 10)                0         \n",
            "                                                                 \n",
            " dense_5 (Dense)             (None, 20)                220       \n",
            "                                                                 \n",
            " dropout_4 (Dropout)         (None, 20)                0         \n",
            "                                                                 \n",
            " dense_6 (Dense)             (None, 15)                315       \n",
            "                                                                 \n",
            " dropout_5 (Dropout)         (None, 15)                0         \n",
            "                                                                 \n",
            " dense_7 (Dense)             (None, 1)                 16        \n",
            "                                                                 \n",
            "=================================================================\n",
            "Total params: 851 (3.32 KB)\n",
            "Trainable params: 851 (3.32 KB)\n",
            "Non-trainable params: 0 (0.00 Byte)\n",
            "_________________________________________________________________\n"
          ]
        }
      ]
    },
    {
      "cell_type": "code",
      "source": [
        "#compiling ANN\n",
        "classifier.compile(optimizer=\"adam\",loss=\"binary_crossentropy\",metrics=[\"accuracy\"])\n",
        "#use binary cross_entropy when output is 0 or 1\n",
        "#use categorical_crossentropy when more that 2 classes present as output\n"
      ],
      "metadata": {
        "id": "lc3XskWbGsC7"
      },
      "execution_count": null,
      "outputs": []
    },
    {
      "cell_type": "code",
      "source": [
        "#fitting training set into ANN\n",
        "classifier.fit(X_train,Y_train,validation_split=0.3,batch_size=25,epochs=100)"
      ],
      "metadata": {
        "colab": {
          "base_uri": "https://localhost:8080/"
        },
        "id": "rYo9RiFOGx--",
        "outputId": "8235f1a1-8c02-417c-86b1-efff3e173096"
      },
      "execution_count": null,
      "outputs": [
        {
          "output_type": "stream",
          "name": "stdout",
          "text": [
            "Epoch 1/100\n",
            "6380/6380 [==============================] - 22s 3ms/step - loss: 0.0647 - accuracy: 0.9952 - val_loss: 0.0134 - val_accuracy: 0.9982\n",
            "Epoch 2/100\n",
            "6380/6380 [==============================] - 20s 3ms/step - loss: 0.0151 - accuracy: 0.9983 - val_loss: 0.0096 - val_accuracy: 0.9982\n",
            "Epoch 3/100\n",
            "6380/6380 [==============================] - 20s 3ms/step - loss: 0.0101 - accuracy: 0.9983 - val_loss: 0.0081 - val_accuracy: 0.9982\n",
            "Epoch 4/100\n",
            "6380/6380 [==============================] - 20s 3ms/step - loss: 0.0095 - accuracy: 0.9983 - val_loss: 0.0092 - val_accuracy: 0.9982\n",
            "Epoch 5/100\n",
            "6380/6380 [==============================] - 21s 3ms/step - loss: 0.0089 - accuracy: 0.9983 - val_loss: 0.0071 - val_accuracy: 0.9982\n",
            "Epoch 6/100\n",
            "6380/6380 [==============================] - 20s 3ms/step - loss: 0.0091 - accuracy: 0.9983 - val_loss: 0.0073 - val_accuracy: 0.9982\n",
            "Epoch 7/100\n",
            "6380/6380 [==============================] - 19s 3ms/step - loss: 0.0077 - accuracy: 0.9983 - val_loss: 0.0071 - val_accuracy: 0.9982\n",
            "Epoch 8/100\n",
            "6380/6380 [==============================] - 18s 3ms/step - loss: 0.0074 - accuracy: 0.9983 - val_loss: 0.0122 - val_accuracy: 0.9982\n",
            "Epoch 9/100\n",
            "6380/6380 [==============================] - 20s 3ms/step - loss: 0.0082 - accuracy: 0.9983 - val_loss: 0.0108 - val_accuracy: 0.9982\n",
            "Epoch 10/100\n",
            "6380/6380 [==============================] - 20s 3ms/step - loss: 0.0095 - accuracy: 0.9983 - val_loss: 0.0051 - val_accuracy: 0.9982\n",
            "Epoch 11/100\n",
            "6380/6380 [==============================] - 18s 3ms/step - loss: 0.0069 - accuracy: 0.9983 - val_loss: 0.0122 - val_accuracy: 0.9982\n",
            "Epoch 12/100\n",
            "6380/6380 [==============================] - 20s 3ms/step - loss: 0.0083 - accuracy: 0.9983 - val_loss: 0.0071 - val_accuracy: 0.9982\n",
            "Epoch 13/100\n",
            "6380/6380 [==============================] - 19s 3ms/step - loss: 0.0084 - accuracy: 0.9983 - val_loss: 0.0070 - val_accuracy: 0.9982\n",
            "Epoch 14/100\n",
            "6380/6380 [==============================] - 20s 3ms/step - loss: 0.0068 - accuracy: 0.9983 - val_loss: 0.0075 - val_accuracy: 0.9982\n",
            "Epoch 15/100\n",
            "6380/6380 [==============================] - 18s 3ms/step - loss: 0.0072 - accuracy: 0.9983 - val_loss: 0.0066 - val_accuracy: 0.9982\n",
            "Epoch 16/100\n",
            "6380/6380 [==============================] - 20s 3ms/step - loss: 0.0076 - accuracy: 0.9983 - val_loss: 0.0079 - val_accuracy: 0.9982\n",
            "Epoch 17/100\n",
            "6380/6380 [==============================] - 21s 3ms/step - loss: 0.0066 - accuracy: 0.9983 - val_loss: 0.0070 - val_accuracy: 0.9982\n",
            "Epoch 18/100\n",
            "6380/6380 [==============================] - 20s 3ms/step - loss: 0.0082 - accuracy: 0.9983 - val_loss: 0.0053 - val_accuracy: 0.9982\n",
            "Epoch 19/100\n",
            "6380/6380 [==============================] - 21s 3ms/step - loss: 0.0065 - accuracy: 0.9983 - val_loss: 0.0079 - val_accuracy: 0.9982\n",
            "Epoch 20/100\n",
            "6380/6380 [==============================] - 21s 3ms/step - loss: 0.0071 - accuracy: 0.9983 - val_loss: 0.0048 - val_accuracy: 0.9982\n",
            "Epoch 21/100\n",
            "6380/6380 [==============================] - 19s 3ms/step - loss: 0.0064 - accuracy: 0.9983 - val_loss: 0.0056 - val_accuracy: 0.9982\n",
            "Epoch 22/100\n",
            "6380/6380 [==============================] - 20s 3ms/step - loss: 0.0068 - accuracy: 0.9983 - val_loss: 0.0054 - val_accuracy: 0.9982\n",
            "Epoch 23/100\n",
            "6380/6380 [==============================] - 20s 3ms/step - loss: 0.0073 - accuracy: 0.9983 - val_loss: 0.0108 - val_accuracy: 0.9982\n",
            "Epoch 24/100\n",
            "6380/6380 [==============================] - 18s 3ms/step - loss: 0.0067 - accuracy: 0.9983 - val_loss: 0.0056 - val_accuracy: 0.9982\n",
            "Epoch 25/100\n",
            "6380/6380 [==============================] - 19s 3ms/step - loss: 0.0069 - accuracy: 0.9983 - val_loss: 0.0078 - val_accuracy: 0.9982\n",
            "Epoch 26/100\n",
            "6380/6380 [==============================] - 22s 3ms/step - loss: 0.0072 - accuracy: 0.9983 - val_loss: 0.0076 - val_accuracy: 0.9982\n",
            "Epoch 27/100\n",
            "6380/6380 [==============================] - 18s 3ms/step - loss: 0.0063 - accuracy: 0.9983 - val_loss: 0.0106 - val_accuracy: 0.9982\n",
            "Epoch 28/100\n",
            "6380/6380 [==============================] - 20s 3ms/step - loss: 0.0064 - accuracy: 0.9983 - val_loss: 0.0068 - val_accuracy: 0.9982\n",
            "Epoch 29/100\n",
            "6380/6380 [==============================] - 20s 3ms/step - loss: 0.0076 - accuracy: 0.9983 - val_loss: 0.0074 - val_accuracy: 0.9982\n",
            "Epoch 30/100\n",
            "6380/6380 [==============================] - 20s 3ms/step - loss: 0.0065 - accuracy: 0.9983 - val_loss: 0.0040 - val_accuracy: 0.9982\n",
            "Epoch 31/100\n",
            "6380/6380 [==============================] - 21s 3ms/step - loss: 0.0071 - accuracy: 0.9983 - val_loss: 0.0059 - val_accuracy: 0.9982\n",
            "Epoch 32/100\n",
            "6380/6380 [==============================] - 20s 3ms/step - loss: 0.0072 - accuracy: 0.9983 - val_loss: 0.0053 - val_accuracy: 0.9982\n",
            "Epoch 33/100\n",
            "6380/6380 [==============================] - 20s 3ms/step - loss: 0.0066 - accuracy: 0.9983 - val_loss: 0.0089 - val_accuracy: 0.9982\n",
            "Epoch 34/100\n",
            "6380/6380 [==============================] - 21s 3ms/step - loss: 0.0068 - accuracy: 0.9983 - val_loss: 0.0042 - val_accuracy: 0.9982\n",
            "Epoch 35/100\n",
            "6380/6380 [==============================] - 21s 3ms/step - loss: 0.0068 - accuracy: 0.9983 - val_loss: 0.0068 - val_accuracy: 0.9982\n",
            "Epoch 36/100\n",
            "6380/6380 [==============================] - 21s 3ms/step - loss: 0.0070 - accuracy: 0.9983 - val_loss: 0.0058 - val_accuracy: 0.9982\n",
            "Epoch 37/100\n",
            "6380/6380 [==============================] - 20s 3ms/step - loss: 0.0067 - accuracy: 0.9983 - val_loss: 0.0064 - val_accuracy: 0.9982\n",
            "Epoch 38/100\n",
            "6380/6380 [==============================] - 20s 3ms/step - loss: 0.0079 - accuracy: 0.9983 - val_loss: 0.0100 - val_accuracy: 0.9982\n",
            "Epoch 39/100\n",
            "6380/6380 [==============================] - 20s 3ms/step - loss: 0.0062 - accuracy: 0.9983 - val_loss: 0.0061 - val_accuracy: 0.9982\n",
            "Epoch 40/100\n",
            "6380/6380 [==============================] - 21s 3ms/step - loss: 0.0077 - accuracy: 0.9983 - val_loss: 0.0092 - val_accuracy: 0.9982\n",
            "Epoch 41/100\n",
            "6380/6380 [==============================] - 20s 3ms/step - loss: 0.0067 - accuracy: 0.9983 - val_loss: 0.0045 - val_accuracy: 0.9982\n",
            "Epoch 42/100\n",
            "6380/6380 [==============================] - 18s 3ms/step - loss: 0.0075 - accuracy: 0.9983 - val_loss: 0.0048 - val_accuracy: 0.9982\n",
            "Epoch 43/100\n",
            "6380/6380 [==============================] - 20s 3ms/step - loss: 0.0068 - accuracy: 0.9983 - val_loss: 0.0056 - val_accuracy: 0.9982\n",
            "Epoch 44/100\n",
            "6380/6380 [==============================] - 21s 3ms/step - loss: 0.0069 - accuracy: 0.9983 - val_loss: 0.0075 - val_accuracy: 0.9982\n",
            "Epoch 45/100\n",
            "6380/6380 [==============================] - 18s 3ms/step - loss: 0.0068 - accuracy: 0.9983 - val_loss: 0.0127 - val_accuracy: 0.9982\n",
            "Epoch 46/100\n",
            "6380/6380 [==============================] - 18s 3ms/step - loss: 0.0068 - accuracy: 0.9983 - val_loss: 0.0042 - val_accuracy: 0.9982\n",
            "Epoch 47/100\n",
            "6380/6380 [==============================] - 21s 3ms/step - loss: 0.0073 - accuracy: 0.9983 - val_loss: 0.0057 - val_accuracy: 0.9982\n",
            "Epoch 48/100\n",
            "6380/6380 [==============================] - 18s 3ms/step - loss: 0.0068 - accuracy: 0.9983 - val_loss: 0.0064 - val_accuracy: 0.9982\n",
            "Epoch 49/100\n",
            "6380/6380 [==============================] - 21s 3ms/step - loss: 0.0076 - accuracy: 0.9983 - val_loss: 0.0062 - val_accuracy: 0.9982\n",
            "Epoch 50/100\n",
            "6380/6380 [==============================] - 21s 3ms/step - loss: 0.0067 - accuracy: 0.9983 - val_loss: 0.0061 - val_accuracy: 0.9982\n",
            "Epoch 51/100\n",
            "6380/6380 [==============================] - 21s 3ms/step - loss: 0.0074 - accuracy: 0.9983 - val_loss: 0.0068 - val_accuracy: 0.9982\n",
            "Epoch 52/100\n",
            "6380/6380 [==============================] - 19s 3ms/step - loss: 0.0074 - accuracy: 0.9983 - val_loss: 0.0052 - val_accuracy: 0.9982\n",
            "Epoch 53/100\n",
            "6380/6380 [==============================] - 19s 3ms/step - loss: 0.0068 - accuracy: 0.9983 - val_loss: 0.0062 - val_accuracy: 0.9982\n",
            "Epoch 54/100\n",
            "6380/6380 [==============================] - 21s 3ms/step - loss: 0.0062 - accuracy: 0.9983 - val_loss: 0.0053 - val_accuracy: 0.9982\n",
            "Epoch 55/100\n",
            "6380/6380 [==============================] - 19s 3ms/step - loss: 0.0071 - accuracy: 0.9983 - val_loss: 0.0070 - val_accuracy: 0.9982\n",
            "Epoch 56/100\n",
            "6380/6380 [==============================] - 21s 3ms/step - loss: 0.0065 - accuracy: 0.9983 - val_loss: 0.0044 - val_accuracy: 0.9982\n",
            "Epoch 57/100\n",
            "6380/6380 [==============================] - 21s 3ms/step - loss: 0.0064 - accuracy: 0.9983 - val_loss: 0.0054 - val_accuracy: 0.9982\n",
            "Epoch 58/100\n",
            "6380/6380 [==============================] - 21s 3ms/step - loss: 0.0066 - accuracy: 0.9983 - val_loss: 0.0086 - val_accuracy: 0.9982\n",
            "Epoch 59/100\n",
            "6380/6380 [==============================] - 21s 3ms/step - loss: 0.0073 - accuracy: 0.9983 - val_loss: 0.0053 - val_accuracy: 0.9982\n",
            "Epoch 60/100\n",
            "6380/6380 [==============================] - 20s 3ms/step - loss: 0.0070 - accuracy: 0.9983 - val_loss: 0.0063 - val_accuracy: 0.9982\n",
            "Epoch 61/100\n",
            "6380/6380 [==============================] - 20s 3ms/step - loss: 0.0061 - accuracy: 0.9983 - val_loss: 0.0092 - val_accuracy: 0.9982\n",
            "Epoch 62/100\n",
            "6380/6380 [==============================] - 18s 3ms/step - loss: 0.0079 - accuracy: 0.9983 - val_loss: 0.0040 - val_accuracy: 0.9982\n",
            "Epoch 63/100\n",
            "6380/6380 [==============================] - 18s 3ms/step - loss: 0.0068 - accuracy: 0.9983 - val_loss: 0.0050 - val_accuracy: 0.9982\n",
            "Epoch 64/100\n",
            "6380/6380 [==============================] - 20s 3ms/step - loss: 0.0068 - accuracy: 0.9983 - val_loss: 0.0060 - val_accuracy: 0.9982\n",
            "Epoch 65/100\n",
            "6380/6380 [==============================] - 20s 3ms/step - loss: 0.0072 - accuracy: 0.9983 - val_loss: 0.0054 - val_accuracy: 0.9982\n",
            "Epoch 66/100\n",
            "6380/6380 [==============================] - 20s 3ms/step - loss: 0.0076 - accuracy: 0.9983 - val_loss: 0.0047 - val_accuracy: 0.9982\n",
            "Epoch 67/100\n",
            "6380/6380 [==============================] - 20s 3ms/step - loss: 0.0060 - accuracy: 0.9983 - val_loss: 0.0073 - val_accuracy: 0.9982\n",
            "Epoch 68/100\n",
            "6380/6380 [==============================] - 18s 3ms/step - loss: 0.0068 - accuracy: 0.9983 - val_loss: 0.0071 - val_accuracy: 0.9982\n",
            "Epoch 69/100\n",
            "6380/6380 [==============================] - 20s 3ms/step - loss: 0.0065 - accuracy: 0.9983 - val_loss: 0.0048 - val_accuracy: 0.9982\n",
            "Epoch 70/100\n",
            "6380/6380 [==============================] - 18s 3ms/step - loss: 0.0074 - accuracy: 0.9983 - val_loss: 0.0064 - val_accuracy: 0.9982\n",
            "Epoch 71/100\n",
            "6380/6380 [==============================] - 20s 3ms/step - loss: 0.0073 - accuracy: 0.9983 - val_loss: 0.0043 - val_accuracy: 0.9982\n",
            "Epoch 72/100\n",
            "6380/6380 [==============================] - 19s 3ms/step - loss: 0.0067 - accuracy: 0.9983 - val_loss: 0.0051 - val_accuracy: 0.9982\n",
            "Epoch 73/100\n",
            "6380/6380 [==============================] - 20s 3ms/step - loss: 0.0077 - accuracy: 0.9983 - val_loss: 0.0050 - val_accuracy: 0.9982\n",
            "Epoch 74/100\n",
            "6380/6380 [==============================] - 20s 3ms/step - loss: 0.0063 - accuracy: 0.9983 - val_loss: 0.0049 - val_accuracy: 0.9982\n",
            "Epoch 75/100\n",
            "6380/6380 [==============================] - 18s 3ms/step - loss: 0.0069 - accuracy: 0.9983 - val_loss: 0.0045 - val_accuracy: 0.9982\n",
            "Epoch 76/100\n",
            "6380/6380 [==============================] - 20s 3ms/step - loss: 0.0070 - accuracy: 0.9983 - val_loss: 0.0058 - val_accuracy: 0.9982\n",
            "Epoch 77/100\n",
            "6380/6380 [==============================] - 22s 3ms/step - loss: 0.0071 - accuracy: 0.9983 - val_loss: 0.0046 - val_accuracy: 0.9982\n",
            "Epoch 78/100\n",
            "6380/6380 [==============================] - 20s 3ms/step - loss: 0.0070 - accuracy: 0.9983 - val_loss: 0.0050 - val_accuracy: 0.9982\n",
            "Epoch 79/100\n",
            "6380/6380 [==============================] - 19s 3ms/step - loss: 0.0068 - accuracy: 0.9983 - val_loss: 0.0065 - val_accuracy: 0.9982\n",
            "Epoch 80/100\n",
            "6380/6380 [==============================] - 21s 3ms/step - loss: 0.0070 - accuracy: 0.9983 - val_loss: 0.0051 - val_accuracy: 0.9982\n",
            "Epoch 81/100\n",
            "6380/6380 [==============================] - 21s 3ms/step - loss: 0.0068 - accuracy: 0.9983 - val_loss: 0.0040 - val_accuracy: 0.9982\n",
            "Epoch 82/100\n",
            "6380/6380 [==============================] - 22s 3ms/step - loss: 0.0067 - accuracy: 0.9983 - val_loss: 0.0065 - val_accuracy: 0.9982\n",
            "Epoch 83/100\n",
            "6380/6380 [==============================] - 19s 3ms/step - loss: 0.0063 - accuracy: 0.9983 - val_loss: 0.0057 - val_accuracy: 0.9982\n",
            "Epoch 84/100\n",
            "6380/6380 [==============================] - 21s 3ms/step - loss: 0.0063 - accuracy: 0.9983 - val_loss: 0.0070 - val_accuracy: 0.9982\n",
            "Epoch 85/100\n",
            "6380/6380 [==============================] - 18s 3ms/step - loss: 0.0077 - accuracy: 0.9983 - val_loss: 0.0050 - val_accuracy: 0.9982\n",
            "Epoch 86/100\n",
            "6380/6380 [==============================] - 21s 3ms/step - loss: 0.0061 - accuracy: 0.9983 - val_loss: 0.0062 - val_accuracy: 0.9982\n",
            "Epoch 87/100\n",
            "6380/6380 [==============================] - 21s 3ms/step - loss: 0.0071 - accuracy: 0.9983 - val_loss: 0.0043 - val_accuracy: 0.9982\n",
            "Epoch 88/100\n",
            "6380/6380 [==============================] - 21s 3ms/step - loss: 0.0070 - accuracy: 0.9983 - val_loss: 0.0067 - val_accuracy: 0.9982\n",
            "Epoch 89/100\n",
            "6380/6380 [==============================] - 23s 4ms/step - loss: 0.0063 - accuracy: 0.9983 - val_loss: 0.0071 - val_accuracy: 0.9982\n",
            "Epoch 90/100\n",
            "6380/6380 [==============================] - 19s 3ms/step - loss: 0.0073 - accuracy: 0.9983 - val_loss: 0.0076 - val_accuracy: 0.9982\n",
            "Epoch 91/100\n",
            "6380/6380 [==============================] - 22s 3ms/step - loss: 0.0071 - accuracy: 0.9983 - val_loss: 0.0063 - val_accuracy: 0.9982\n",
            "Epoch 92/100\n",
            "6380/6380 [==============================] - 21s 3ms/step - loss: 0.0069 - accuracy: 0.9983 - val_loss: 0.0063 - val_accuracy: 0.9982\n",
            "Epoch 93/100\n",
            "6380/6380 [==============================] - 20s 3ms/step - loss: 0.0076 - accuracy: 0.9983 - val_loss: 0.0108 - val_accuracy: 0.9982\n",
            "Epoch 94/100\n",
            "6380/6380 [==============================] - 23s 4ms/step - loss: 0.0074 - accuracy: 0.9983 - val_loss: 0.0043 - val_accuracy: 0.9982\n",
            "Epoch 95/100\n",
            "6380/6380 [==============================] - 21s 3ms/step - loss: 0.0063 - accuracy: 0.9983 - val_loss: 0.0080 - val_accuracy: 0.9982\n",
            "Epoch 96/100\n",
            "6380/6380 [==============================] - 21s 3ms/step - loss: 0.0066 - accuracy: 0.9983 - val_loss: 0.0066 - val_accuracy: 0.9982\n",
            "Epoch 97/100\n",
            "6380/6380 [==============================] - 20s 3ms/step - loss: 0.0064 - accuracy: 0.9983 - val_loss: 0.0050 - val_accuracy: 0.9982\n",
            "Epoch 98/100\n",
            "6380/6380 [==============================] - 20s 3ms/step - loss: 0.0067 - accuracy: 0.9983 - val_loss: 0.0087 - val_accuracy: 0.9982\n",
            "Epoch 99/100\n",
            "6380/6380 [==============================] - 22s 3ms/step - loss: 0.0078 - accuracy: 0.9983 - val_loss: 0.0075 - val_accuracy: 0.9982\n",
            "Epoch 100/100\n",
            "6380/6380 [==============================] - 19s 3ms/step - loss: 0.0064 - accuracy: 0.9983 - val_loss: 0.0051 - val_accuracy: 0.9982\n"
          ]
        },
        {
          "output_type": "execute_result",
          "data": {
            "text/plain": [
              "<keras.src.callbacks.History at 0x798c4884aaa0>"
            ]
          },
          "metadata": {},
          "execution_count": 25
        }
      ]
    },
    {
      "cell_type": "code",
      "source": [
        "#checking accuracy on test data\n",
        "y_pred=classifier.predict(X_test)\n",
        "y_pred=(y_pred>0.5) #consider greater than 0.5 as true and rest as false"
      ],
      "metadata": {
        "colab": {
          "base_uri": "https://localhost:8080/"
        },
        "id": "jWvqk6fWCGJn",
        "outputId": "1a9a974a-44e2-4698-9e12-1c12f4e47f18"
      },
      "execution_count": null,
      "outputs": [
        {
          "output_type": "stream",
          "name": "stdout",
          "text": [
            "1781/1781 [==============================] - 2s 1ms/step\n"
          ]
        }
      ]
    },
    {
      "cell_type": "code",
      "source": [
        "Y_test.value_counts()"
      ],
      "metadata": {
        "colab": {
          "base_uri": "https://localhost:8080/"
        },
        "id": "CFYTcS4Ed6nT",
        "outputId": "b97f459a-80ea-40ef-9064-1f85d8c45027"
      },
      "execution_count": null,
      "outputs": [
        {
          "output_type": "execute_result",
          "data": {
            "text/plain": [
              "Class\n",
              "0    56861\n",
              "1      101\n",
              "Name: count, dtype: int64"
            ]
          },
          "metadata": {},
          "execution_count": 30
        }
      ]
    },
    {
      "cell_type": "code",
      "source": [
        "from sklearn.metrics import confusion_matrix\n",
        "from sklearn.metrics import accuracy_score\n",
        "accuracy=accuracy_score(Y_test,y_pred)\n",
        "cm=confusion_matrix(Y_test,y_pred)\n",
        "print(accuracy)\n",
        "print(cm)\n",
        "#model accuracy is high, but it was unable to classify any of the spam emails.\n",
        "#all 101 spam emails were falsely classified as not spam"
      ],
      "metadata": {
        "colab": {
          "base_uri": "https://localhost:8080/"
        },
        "id": "mICdF5qcCTWE",
        "outputId": "fecd512d-086a-4d02-e6e3-97c464ff5d6e"
      },
      "execution_count": null,
      "outputs": [
        {
          "output_type": "stream",
          "name": "stdout",
          "text": [
            "0.9982268881008391\n",
            "[[56861     0]\n",
            " [  101     0]]\n"
          ]
        }
      ]
    },
    {
      "cell_type": "code",
      "source": [
        "#lets try oversampling the data to see if we get better accuracy\n",
        "from imblearn.combine import SMOTETomek\n",
        "from collections import Counter\n",
        "os=SMOTETomek(sampling_strategy=0.75)\n",
        "X_train_os,Y_train_os=os.fit_resample(X_train,Y_train)\n",
        "print(Counter(Y_train))\n",
        "print(Counter(Y_train_os))"
      ],
      "metadata": {
        "id": "p-Bb6Q_OZd-l",
        "colab": {
          "base_uri": "https://localhost:8080/"
        },
        "outputId": "3988eee1-e477-47eb-9e69-d37394185ad2"
      },
      "execution_count": null,
      "outputs": [
        {
          "output_type": "stream",
          "name": "stdout",
          "text": [
            "Counter({0: 227454, 1: 391})\n",
            "Counter({0: 227453, 1: 170589})\n"
          ]
        }
      ]
    },
    {
      "cell_type": "code",
      "source": [
        "#fitting oversampled training dataset into ANN model\n",
        "classifier.fit(X_train_os,Y_train_os,validation_split=0.3,batch_size=25,epochs=100)"
      ],
      "metadata": {
        "colab": {
          "base_uri": "https://localhost:8080/"
        },
        "id": "fvBQPlqRC4gK",
        "outputId": "d014aeaa-f24e-4785-b8fe-96428dcae71c"
      },
      "execution_count": null,
      "outputs": [
        {
          "output_type": "stream",
          "name": "stdout",
          "text": [
            "Epoch 1/100\n",
            "11146/11146 [==============================] - 36s 3ms/step - loss: 0.1822 - accuracy: 0.9590 - val_loss: 0.2597 - val_accuracy: 0.8933\n",
            "Epoch 2/100\n",
            "11146/11146 [==============================] - 34s 3ms/step - loss: 0.0738 - accuracy: 0.9769 - val_loss: 0.2192 - val_accuracy: 0.9022\n",
            "Epoch 3/100\n",
            "11146/11146 [==============================] - 34s 3ms/step - loss: 0.0670 - accuracy: 0.9785 - val_loss: 0.1524 - val_accuracy: 0.9286\n",
            "Epoch 4/100\n",
            "11146/11146 [==============================] - 35s 3ms/step - loss: 0.0643 - accuracy: 0.9789 - val_loss: 0.1492 - val_accuracy: 0.9359\n",
            "Epoch 5/100\n",
            "11146/11146 [==============================] - 38s 3ms/step - loss: 0.0615 - accuracy: 0.9797 - val_loss: 0.1580 - val_accuracy: 0.9388\n",
            "Epoch 6/100\n",
            "11146/11146 [==============================] - 36s 3ms/step - loss: 0.0620 - accuracy: 0.9800 - val_loss: 0.1721 - val_accuracy: 0.9189\n",
            "Epoch 7/100\n",
            "11146/11146 [==============================] - 40s 4ms/step - loss: 0.0588 - accuracy: 0.9801 - val_loss: 0.1421 - val_accuracy: 0.9392\n",
            "Epoch 8/100\n",
            "11146/11146 [==============================] - 34s 3ms/step - loss: 0.0574 - accuracy: 0.9808 - val_loss: 0.1400 - val_accuracy: 0.9438\n",
            "Epoch 9/100\n",
            "11146/11146 [==============================] - 35s 3ms/step - loss: 0.0559 - accuracy: 0.9812 - val_loss: 0.1181 - val_accuracy: 0.9466\n",
            "Epoch 10/100\n",
            "11146/11146 [==============================] - 31s 3ms/step - loss: 0.0554 - accuracy: 0.9814 - val_loss: 0.1214 - val_accuracy: 0.9450\n",
            "Epoch 11/100\n",
            "11146/11146 [==============================] - 32s 3ms/step - loss: 0.0561 - accuracy: 0.9814 - val_loss: 0.1398 - val_accuracy: 0.9457\n",
            "Epoch 12/100\n",
            "11146/11146 [==============================] - 32s 3ms/step - loss: 0.0555 - accuracy: 0.9815 - val_loss: 0.1332 - val_accuracy: 0.9480\n",
            "Epoch 13/100\n",
            "11146/11146 [==============================] - 34s 3ms/step - loss: 0.0550 - accuracy: 0.9818 - val_loss: 0.1644 - val_accuracy: 0.9498\n",
            "Epoch 14/100\n",
            "11146/11146 [==============================] - 33s 3ms/step - loss: 0.0567 - accuracy: 0.9816 - val_loss: 0.0976 - val_accuracy: 0.9567\n",
            "Epoch 15/100\n",
            "11146/11146 [==============================] - 33s 3ms/step - loss: 0.0541 - accuracy: 0.9822 - val_loss: 0.1225 - val_accuracy: 0.9470\n",
            "Epoch 16/100\n",
            "11146/11146 [==============================] - 38s 3ms/step - loss: 0.0543 - accuracy: 0.9820 - val_loss: 0.1342 - val_accuracy: 0.9411\n",
            "Epoch 17/100\n",
            "11146/11146 [==============================] - 35s 3ms/step - loss: 0.0562 - accuracy: 0.9816 - val_loss: 0.1358 - val_accuracy: 0.9458\n",
            "Epoch 18/100\n",
            "11146/11146 [==============================] - 39s 3ms/step - loss: 0.0550 - accuracy: 0.9822 - val_loss: 0.1087 - val_accuracy: 0.9503\n",
            "Epoch 19/100\n",
            "11146/11146 [==============================] - 38s 3ms/step - loss: 0.0533 - accuracy: 0.9824 - val_loss: 0.1716 - val_accuracy: 0.9364\n",
            "Epoch 20/100\n",
            "11146/11146 [==============================] - 33s 3ms/step - loss: 0.0536 - accuracy: 0.9823 - val_loss: 0.1331 - val_accuracy: 0.9465\n",
            "Epoch 21/100\n",
            "11146/11146 [==============================] - 38s 3ms/step - loss: 0.0528 - accuracy: 0.9825 - val_loss: 0.1213 - val_accuracy: 0.9485\n",
            "Epoch 22/100\n",
            "11146/11146 [==============================] - 33s 3ms/step - loss: 0.0536 - accuracy: 0.9821 - val_loss: 0.1442 - val_accuracy: 0.9457\n",
            "Epoch 23/100\n",
            "11146/11146 [==============================] - 36s 3ms/step - loss: 0.0528 - accuracy: 0.9827 - val_loss: 0.1425 - val_accuracy: 0.9504\n",
            "Epoch 24/100\n",
            "11146/11146 [==============================] - 33s 3ms/step - loss: 0.0536 - accuracy: 0.9824 - val_loss: 0.1060 - val_accuracy: 0.9494\n",
            "Epoch 25/100\n",
            "11146/11146 [==============================] - 38s 3ms/step - loss: 0.0546 - accuracy: 0.9821 - val_loss: 0.1317 - val_accuracy: 0.9493\n",
            "Epoch 26/100\n",
            "11146/11146 [==============================] - 34s 3ms/step - loss: 0.0528 - accuracy: 0.9826 - val_loss: 0.1153 - val_accuracy: 0.9525\n",
            "Epoch 27/100\n",
            "11146/11146 [==============================] - 37s 3ms/step - loss: 0.0524 - accuracy: 0.9825 - val_loss: 0.1456 - val_accuracy: 0.9439\n",
            "Epoch 28/100\n",
            "11146/11146 [==============================] - 33s 3ms/step - loss: 0.0521 - accuracy: 0.9832 - val_loss: 0.1457 - val_accuracy: 0.9446\n",
            "Epoch 29/100\n",
            "11146/11146 [==============================] - 37s 3ms/step - loss: 0.0517 - accuracy: 0.9830 - val_loss: 0.1205 - val_accuracy: 0.9525\n",
            "Epoch 30/100\n",
            "11146/11146 [==============================] - 37s 3ms/step - loss: 0.0518 - accuracy: 0.9827 - val_loss: 0.1010 - val_accuracy: 0.9513\n",
            "Epoch 31/100\n",
            "11146/11146 [==============================] - 34s 3ms/step - loss: 0.0518 - accuracy: 0.9828 - val_loss: 0.1048 - val_accuracy: 0.9534\n",
            "Epoch 32/100\n",
            "11146/11146 [==============================] - 33s 3ms/step - loss: 0.0510 - accuracy: 0.9830 - val_loss: 0.1223 - val_accuracy: 0.9506\n",
            "Epoch 33/100\n",
            "11146/11146 [==============================] - 37s 3ms/step - loss: 0.0522 - accuracy: 0.9828 - val_loss: 0.1041 - val_accuracy: 0.9516\n",
            "Epoch 34/100\n",
            "11146/11146 [==============================] - 38s 3ms/step - loss: 0.0525 - accuracy: 0.9827 - val_loss: 0.1155 - val_accuracy: 0.9503\n",
            "Epoch 35/100\n",
            "11146/11146 [==============================] - 37s 3ms/step - loss: 0.0510 - accuracy: 0.9831 - val_loss: 0.1280 - val_accuracy: 0.9478\n",
            "Epoch 36/100\n",
            "11146/11146 [==============================] - 33s 3ms/step - loss: 0.0523 - accuracy: 0.9829 - val_loss: 0.1021 - val_accuracy: 0.9537\n",
            "Epoch 37/100\n",
            "11146/11146 [==============================] - 36s 3ms/step - loss: 0.0520 - accuracy: 0.9829 - val_loss: 0.1145 - val_accuracy: 0.9522\n",
            "Epoch 38/100\n",
            "11146/11146 [==============================] - 31s 3ms/step - loss: 0.0512 - accuracy: 0.9831 - val_loss: 0.1393 - val_accuracy: 0.9531\n",
            "Epoch 39/100\n",
            "11146/11146 [==============================] - 31s 3ms/step - loss: 0.0504 - accuracy: 0.9830 - val_loss: 0.1586 - val_accuracy: 0.9429\n",
            "Epoch 40/100\n",
            "11146/11146 [==============================] - 33s 3ms/step - loss: 0.0502 - accuracy: 0.9831 - val_loss: 0.0952 - val_accuracy: 0.9567\n",
            "Epoch 41/100\n",
            "11146/11146 [==============================] - 32s 3ms/step - loss: 0.0507 - accuracy: 0.9832 - val_loss: 0.1145 - val_accuracy: 0.9483\n",
            "Epoch 42/100\n",
            "11146/11146 [==============================] - 31s 3ms/step - loss: 0.0509 - accuracy: 0.9832 - val_loss: 0.1185 - val_accuracy: 0.9466\n",
            "Epoch 43/100\n",
            "11146/11146 [==============================] - 31s 3ms/step - loss: 0.0515 - accuracy: 0.9833 - val_loss: 0.1093 - val_accuracy: 0.9501\n",
            "Epoch 44/100\n",
            "11146/11146 [==============================] - 31s 3ms/step - loss: 0.0500 - accuracy: 0.9830 - val_loss: 0.1028 - val_accuracy: 0.9503\n",
            "Epoch 45/100\n",
            "11146/11146 [==============================] - 32s 3ms/step - loss: 0.0510 - accuracy: 0.9830 - val_loss: 0.0834 - val_accuracy: 0.9624\n",
            "Epoch 46/100\n",
            "11146/11146 [==============================] - 34s 3ms/step - loss: 0.0503 - accuracy: 0.9835 - val_loss: 0.1160 - val_accuracy: 0.9525\n",
            "Epoch 47/100\n",
            "11146/11146 [==============================] - 32s 3ms/step - loss: 0.0507 - accuracy: 0.9833 - val_loss: 0.1303 - val_accuracy: 0.9503\n",
            "Epoch 48/100\n",
            "11146/11146 [==============================] - 37s 3ms/step - loss: 0.0504 - accuracy: 0.9832 - val_loss: 0.1119 - val_accuracy: 0.9494\n",
            "Epoch 49/100\n",
            "11146/11146 [==============================] - 32s 3ms/step - loss: 0.0489 - accuracy: 0.9835 - val_loss: 0.1643 - val_accuracy: 0.9557\n",
            "Epoch 50/100\n",
            "11146/11146 [==============================] - 37s 3ms/step - loss: 0.0501 - accuracy: 0.9833 - val_loss: 0.1217 - val_accuracy: 0.9548\n",
            "Epoch 51/100\n",
            "11146/11146 [==============================] - 36s 3ms/step - loss: 0.0501 - accuracy: 0.9834 - val_loss: 0.1023 - val_accuracy: 0.9559\n",
            "Epoch 52/100\n",
            "11146/11146 [==============================] - 37s 3ms/step - loss: 0.0505 - accuracy: 0.9835 - val_loss: 0.1328 - val_accuracy: 0.9460\n",
            "Epoch 53/100\n",
            "11146/11146 [==============================] - 37s 3ms/step - loss: 0.0497 - accuracy: 0.9832 - val_loss: 0.1169 - val_accuracy: 0.9528\n",
            "Epoch 54/100\n",
            "11146/11146 [==============================] - 35s 3ms/step - loss: 0.0492 - accuracy: 0.9832 - val_loss: 0.1036 - val_accuracy: 0.9514\n",
            "Epoch 55/100\n",
            "11146/11146 [==============================] - 38s 3ms/step - loss: 0.0508 - accuracy: 0.9833 - val_loss: 0.1160 - val_accuracy: 0.9508\n",
            "Epoch 56/100\n",
            "11146/11146 [==============================] - 32s 3ms/step - loss: 0.0501 - accuracy: 0.9836 - val_loss: 0.1033 - val_accuracy: 0.9515\n",
            "Epoch 57/100\n",
            "11146/11146 [==============================] - 37s 3ms/step - loss: 0.0491 - accuracy: 0.9837 - val_loss: 0.0953 - val_accuracy: 0.9562\n",
            "Epoch 58/100\n",
            "11146/11146 [==============================] - 35s 3ms/step - loss: 0.0493 - accuracy: 0.9835 - val_loss: 0.1468 - val_accuracy: 0.9428\n",
            "Epoch 59/100\n",
            "11146/11146 [==============================] - 32s 3ms/step - loss: 0.0502 - accuracy: 0.9834 - val_loss: 0.1223 - val_accuracy: 0.9521\n",
            "Epoch 60/100\n",
            "11146/11146 [==============================] - 36s 3ms/step - loss: 0.0498 - accuracy: 0.9834 - val_loss: 0.1244 - val_accuracy: 0.9470\n",
            "Epoch 61/100\n",
            "11146/11146 [==============================] - 31s 3ms/step - loss: 0.0495 - accuracy: 0.9835 - val_loss: 0.1536 - val_accuracy: 0.9423\n",
            "Epoch 62/100\n",
            "11146/11146 [==============================] - 31s 3ms/step - loss: 0.0495 - accuracy: 0.9836 - val_loss: 0.0863 - val_accuracy: 0.9584\n",
            "Epoch 63/100\n",
            "11146/11146 [==============================] - 31s 3ms/step - loss: 0.0494 - accuracy: 0.9834 - val_loss: 0.0930 - val_accuracy: 0.9542\n",
            "Epoch 64/100\n",
            "11146/11146 [==============================] - 32s 3ms/step - loss: 0.0491 - accuracy: 0.9834 - val_loss: 0.1059 - val_accuracy: 0.9540\n",
            "Epoch 65/100\n",
            "11146/11146 [==============================] - 31s 3ms/step - loss: 0.0503 - accuracy: 0.9833 - val_loss: 0.0890 - val_accuracy: 0.9594\n",
            "Epoch 66/100\n",
            "11146/11146 [==============================] - 30s 3ms/step - loss: 0.0490 - accuracy: 0.9837 - val_loss: 0.0909 - val_accuracy: 0.9592\n",
            "Epoch 67/100\n",
            "11146/11146 [==============================] - 31s 3ms/step - loss: 0.0491 - accuracy: 0.9837 - val_loss: 0.0991 - val_accuracy: 0.9556\n",
            "Epoch 68/100\n",
            "11146/11146 [==============================] - 32s 3ms/step - loss: 0.0488 - accuracy: 0.9835 - val_loss: 0.1841 - val_accuracy: 0.9578\n",
            "Epoch 69/100\n",
            "11146/11146 [==============================] - 33s 3ms/step - loss: 0.0496 - accuracy: 0.9835 - val_loss: 0.1169 - val_accuracy: 0.9497\n",
            "Epoch 70/100\n",
            "11146/11146 [==============================] - 36s 3ms/step - loss: 0.0488 - accuracy: 0.9838 - val_loss: 0.1185 - val_accuracy: 0.9560\n",
            "Epoch 71/100\n",
            "11146/11146 [==============================] - 35s 3ms/step - loss: 0.0496 - accuracy: 0.9837 - val_loss: 0.1207 - val_accuracy: 0.9521\n",
            "Epoch 72/100\n",
            "11146/11146 [==============================] - 37s 3ms/step - loss: 0.0511 - accuracy: 0.9834 - val_loss: 0.0932 - val_accuracy: 0.9555\n",
            "Epoch 73/100\n",
            "11146/11146 [==============================] - 38s 3ms/step - loss: 0.0491 - accuracy: 0.9838 - val_loss: 0.1180 - val_accuracy: 0.9516\n",
            "Epoch 74/100\n",
            "11146/11146 [==============================] - 33s 3ms/step - loss: 0.0490 - accuracy: 0.9837 - val_loss: 0.1403 - val_accuracy: 0.9436\n",
            "Epoch 75/100\n",
            "11146/11146 [==============================] - 38s 3ms/step - loss: 0.0494 - accuracy: 0.9838 - val_loss: 0.1033 - val_accuracy: 0.9547\n",
            "Epoch 76/100\n",
            "11146/11146 [==============================] - 37s 3ms/step - loss: 0.0486 - accuracy: 0.9837 - val_loss: 0.0966 - val_accuracy: 0.9576\n",
            "Epoch 77/100\n",
            "11146/11146 [==============================] - 34s 3ms/step - loss: 0.0495 - accuracy: 0.9835 - val_loss: 0.1096 - val_accuracy: 0.9537\n",
            "Epoch 78/100\n",
            "11146/11146 [==============================] - 36s 3ms/step - loss: 0.0492 - accuracy: 0.9838 - val_loss: 0.1046 - val_accuracy: 0.9551\n",
            "Epoch 79/100\n",
            "11146/11146 [==============================] - 37s 3ms/step - loss: 0.0480 - accuracy: 0.9838 - val_loss: 0.1048 - val_accuracy: 0.9552\n",
            "Epoch 80/100\n",
            "11146/11146 [==============================] - 36s 3ms/step - loss: 0.0487 - accuracy: 0.9834 - val_loss: 0.1429 - val_accuracy: 0.9526\n",
            "Epoch 81/100\n",
            "11146/11146 [==============================] - 34s 3ms/step - loss: 0.0511 - accuracy: 0.9836 - val_loss: 0.1023 - val_accuracy: 0.9555\n",
            "Epoch 82/100\n",
            "11146/11146 [==============================] - 34s 3ms/step - loss: 0.0486 - accuracy: 0.9837 - val_loss: 0.1079 - val_accuracy: 0.9539\n",
            "Epoch 83/100\n",
            "11146/11146 [==============================] - 35s 3ms/step - loss: 0.0483 - accuracy: 0.9838 - val_loss: 0.0934 - val_accuracy: 0.9546\n",
            "Epoch 84/100\n",
            "11146/11146 [==============================] - 37s 3ms/step - loss: 0.0493 - accuracy: 0.9837 - val_loss: 0.1290 - val_accuracy: 0.9473\n",
            "Epoch 85/100\n",
            "11146/11146 [==============================] - 38s 3ms/step - loss: 0.0499 - accuracy: 0.9835 - val_loss: 0.1157 - val_accuracy: 0.9531\n",
            "Epoch 86/100\n",
            "11146/11146 [==============================] - 38s 3ms/step - loss: 0.0504 - accuracy: 0.9835 - val_loss: 0.1791 - val_accuracy: 0.9528\n",
            "Epoch 87/100\n",
            "11146/11146 [==============================] - 33s 3ms/step - loss: 0.0486 - accuracy: 0.9836 - val_loss: 0.1173 - val_accuracy: 0.9487\n",
            "Epoch 88/100\n",
            "11146/11146 [==============================] - 34s 3ms/step - loss: 0.0489 - accuracy: 0.9834 - val_loss: 0.1072 - val_accuracy: 0.9497\n",
            "Epoch 89/100\n",
            "11146/11146 [==============================] - 34s 3ms/step - loss: 0.0481 - accuracy: 0.9837 - val_loss: 0.1190 - val_accuracy: 0.9498\n",
            "Epoch 90/100\n",
            "11146/11146 [==============================] - 33s 3ms/step - loss: 0.0502 - accuracy: 0.9834 - val_loss: 0.1321 - val_accuracy: 0.9476\n",
            "Epoch 91/100\n",
            "11146/11146 [==============================] - 34s 3ms/step - loss: 0.0475 - accuracy: 0.9842 - val_loss: 0.1089 - val_accuracy: 0.9543\n",
            "Epoch 92/100\n",
            "11146/11146 [==============================] - 33s 3ms/step - loss: 0.0493 - accuracy: 0.9836 - val_loss: 0.1357 - val_accuracy: 0.9526\n",
            "Epoch 93/100\n",
            "11146/11146 [==============================] - 37s 3ms/step - loss: 0.0495 - accuracy: 0.9836 - val_loss: 0.0934 - val_accuracy: 0.9588\n",
            "Epoch 94/100\n",
            "11146/11146 [==============================] - 38s 3ms/step - loss: 0.0491 - accuracy: 0.9833 - val_loss: 0.1018 - val_accuracy: 0.9544\n",
            "Epoch 95/100\n",
            "11146/11146 [==============================] - 33s 3ms/step - loss: 0.0503 - accuracy: 0.9836 - val_loss: 0.1400 - val_accuracy: 0.9500\n",
            "Epoch 96/100\n",
            "11146/11146 [==============================] - 33s 3ms/step - loss: 0.0493 - accuracy: 0.9836 - val_loss: 0.1097 - val_accuracy: 0.9578\n",
            "Epoch 97/100\n",
            "11146/11146 [==============================] - 37s 3ms/step - loss: 0.0485 - accuracy: 0.9838 - val_loss: 0.3804 - val_accuracy: 0.9448\n",
            "Epoch 98/100\n",
            "11146/11146 [==============================] - 31s 3ms/step - loss: 0.0493 - accuracy: 0.9835 - val_loss: 0.0925 - val_accuracy: 0.9599\n",
            "Epoch 99/100\n",
            "11146/11146 [==============================] - 32s 3ms/step - loss: 0.0481 - accuracy: 0.9836 - val_loss: 0.1121 - val_accuracy: 0.9530\n",
            "Epoch 100/100\n",
            "11146/11146 [==============================] - 34s 3ms/step - loss: 0.0478 - accuracy: 0.9838 - val_loss: 0.0956 - val_accuracy: 0.9594\n"
          ]
        },
        {
          "output_type": "execute_result",
          "data": {
            "text/plain": [
              "<keras.src.callbacks.History at 0x798c49c3bbb0>"
            ]
          },
          "metadata": {},
          "execution_count": 18
        }
      ]
    },
    {
      "cell_type": "code",
      "source": [
        "#checking accuracy on test data\n",
        "y_pred_os=classifier.predict(X_test)\n",
        "y_pred_os=(y_pred_os>0.5) #consider greater than 0.5 as true and rest as false"
      ],
      "metadata": {
        "colab": {
          "base_uri": "https://localhost:8080/"
        },
        "id": "gRJUn5VBByKr",
        "outputId": "81730f1f-e559-4516-c47d-8f6da7d1d103"
      },
      "execution_count": null,
      "outputs": [
        {
          "output_type": "stream",
          "name": "stdout",
          "text": [
            "1781/1781 [==============================] - 3s 1ms/step\n"
          ]
        }
      ]
    },
    {
      "cell_type": "code",
      "source": [
        "#checking accuracy\n",
        "from sklearn.metrics import confusion_matrix\n",
        "from sklearn.metrics import accuracy_score\n",
        "accuracy_os=accuracy_score(Y_test,y_pred_os)\n",
        "cm_os=confusion_matrix(Y_test,y_pred_os)\n",
        "print(accuracy_os)\n",
        "print(cm_os)\n",
        "#accuracy is less, but after oversampling, model was able to classify 88 out of 101 spam emails correctly.\n",
        "#hence this model is better"
      ],
      "metadata": {
        "colab": {
          "base_uri": "https://localhost:8080/"
        },
        "id": "Ih-MRD5iCxMr",
        "outputId": "7f02790a-53c1-4341-9ca6-4a8184d724ce"
      },
      "execution_count": null,
      "outputs": [
        {
          "output_type": "stream",
          "name": "stdout",
          "text": [
            "0.9970506653558513\n",
            "[[56706   155]\n",
            " [   13    88]]\n"
          ]
        }
      ]
    },
    {
      "cell_type": "code",
      "source": [
        "#Now let us create an ANN but with hyperparameter tuning using kerasTuner\n",
        "!pip install keras-tuner\n",
        "from tensorflow import keras\n",
        "from kerastuner import RandomSearch\n",
        "from keras import optimizers"
      ],
      "metadata": {
        "colab": {
          "base_uri": "https://localhost:8080/"
        },
        "id": "f_ThsfM2DPZk",
        "outputId": "587b177d-471b-428b-ad4c-ec9807bccb25"
      },
      "execution_count": null,
      "outputs": [
        {
          "output_type": "stream",
          "name": "stdout",
          "text": [
            "Requirement already satisfied: keras-tuner in /usr/local/lib/python3.10/dist-packages (1.4.7)\n",
            "Requirement already satisfied: keras in /usr/local/lib/python3.10/dist-packages (from keras-tuner) (2.15.0)\n",
            "Requirement already satisfied: packaging in /usr/local/lib/python3.10/dist-packages (from keras-tuner) (24.1)\n",
            "Requirement already satisfied: requests in /usr/local/lib/python3.10/dist-packages (from keras-tuner) (2.31.0)\n",
            "Requirement already satisfied: kt-legacy in /usr/local/lib/python3.10/dist-packages (from keras-tuner) (1.0.5)\n",
            "Requirement already satisfied: charset-normalizer<4,>=2 in /usr/local/lib/python3.10/dist-packages (from requests->keras-tuner) (3.3.2)\n",
            "Requirement already satisfied: idna<4,>=2.5 in /usr/local/lib/python3.10/dist-packages (from requests->keras-tuner) (3.7)\n",
            "Requirement already satisfied: urllib3<3,>=1.21.1 in /usr/local/lib/python3.10/dist-packages (from requests->keras-tuner) (2.0.7)\n",
            "Requirement already satisfied: certifi>=2017.4.17 in /usr/local/lib/python3.10/dist-packages (from requests->keras-tuner) (2024.6.2)\n"
          ]
        }
      ]
    },
    {
      "cell_type": "code",
      "source": [
        "#creating a function to create the general model with variable hyperparameters\n",
        "def build_model(hp):\n",
        "  model = Sequential()\n",
        "  model.add(Dense(units=hp.Int('input_units',min_value=32,max_value=512,step=32),activation='relu',input_dim=X.shape[1]))\n",
        "  for i in range(hp.Int('num_layers',2,20)):\n",
        "    model.add(Dense(units=hp.Int('units_'+str(i),min_value=32,max_value=512,step=32),activation='relu'))\n",
        "  model.add(Dense(1,activation='sigmoid'))\n",
        "  model.compile(optimizer=optimizers.Adam(hp.Choice('learning_rate',[1e-2,1e-3,1e-4])),loss='binary_crossentropy',metrics=['accuracy'])\n",
        "  return model"
      ],
      "metadata": {
        "id": "DpKoT9X-DYET"
      },
      "execution_count": null,
      "outputs": []
    },
    {
      "cell_type": "code",
      "source": [
        "#initializing Random Search\n",
        "tuner=RandomSearch(build_model,objective='val_accuracy',max_trials=5,executions_per_trial=3,directory='Projects',project_name='CreditFraud')"
      ],
      "metadata": {
        "id": "AI-QkEvwDdXc"
      },
      "execution_count": null,
      "outputs": []
    },
    {
      "cell_type": "code",
      "source": [
        "#running random search on our inbalanced training data\n",
        "tuner.search(X_train,Y_train,epochs=5,batch_size=25,validation_split=0.3)"
      ],
      "metadata": {
        "colab": {
          "base_uri": "https://localhost:8080/"
        },
        "id": "Ox_ox-8-jqah",
        "outputId": "77424d18-7b08-4b2f-9adf-347766519e01"
      },
      "execution_count": null,
      "outputs": [
        {
          "output_type": "stream",
          "name": "stdout",
          "text": [
            "Trial 5 Complete [00h 21m 39s]\n",
            "val_accuracy: 0.9991466005643209\n",
            "\n",
            "Best val_accuracy So Far: 0.9992343783378601\n",
            "Total elapsed time: 02h 10m 39s\n"
          ]
        }
      ]
    },
    {
      "cell_type": "code",
      "source": [
        "tuner.results_summary()"
      ],
      "metadata": {
        "colab": {
          "base_uri": "https://localhost:8080/"
        },
        "id": "2V0F6VjfD6SW",
        "outputId": "1ceb80cf-dae1-4413-e8bc-14655768bedc"
      },
      "execution_count": null,
      "outputs": [
        {
          "output_type": "stream",
          "name": "stdout",
          "text": [
            "Results summary\n",
            "Results in Projects/CreditFraud\n",
            "Showing 10 best trials\n",
            "Objective(name=\"val_accuracy\", direction=\"max\")\n",
            "\n",
            "Trial 3 summary\n",
            "Hyperparameters:\n",
            "input_units: 448\n",
            "num_layers: 10\n",
            "units_0: 512\n",
            "units_1: 320\n",
            "learning_rate: 0.0001\n",
            "units_2: 32\n",
            "units_3: 320\n",
            "units_4: 320\n",
            "units_5: 384\n",
            "units_6: 288\n",
            "units_7: 64\n",
            "units_8: 288\n",
            "units_9: 384\n",
            "units_10: 128\n",
            "units_11: 352\n",
            "Score: 0.9992343783378601\n",
            "\n",
            "Trial 1 summary\n",
            "Hyperparameters:\n",
            "input_units: 352\n",
            "num_layers: 9\n",
            "units_0: 320\n",
            "units_1: 160\n",
            "learning_rate: 0.0001\n",
            "units_2: 128\n",
            "units_3: 64\n",
            "units_4: 288\n",
            "units_5: 448\n",
            "units_6: 64\n",
            "units_7: 224\n",
            "units_8: 416\n",
            "Score: 0.9992246230443319\n",
            "\n",
            "Trial 2 summary\n",
            "Hyperparameters:\n",
            "input_units: 256\n",
            "num_layers: 12\n",
            "units_0: 288\n",
            "units_1: 320\n",
            "learning_rate: 0.0001\n",
            "units_2: 192\n",
            "units_3: 352\n",
            "units_4: 512\n",
            "units_5: 416\n",
            "units_6: 448\n",
            "units_7: 128\n",
            "units_8: 416\n",
            "units_9: 32\n",
            "units_10: 32\n",
            "units_11: 32\n",
            "Score: 0.9991660912831625\n",
            "\n",
            "Trial 0 summary\n",
            "Hyperparameters:\n",
            "input_units: 96\n",
            "num_layers: 9\n",
            "units_0: 320\n",
            "units_1: 192\n",
            "learning_rate: 0.001\n",
            "units_2: 32\n",
            "units_3: 32\n",
            "units_4: 32\n",
            "units_5: 32\n",
            "units_6: 32\n",
            "units_7: 32\n",
            "units_8: 32\n",
            "Score: 0.9991514682769775\n",
            "\n",
            "Trial 4 summary\n",
            "Hyperparameters:\n",
            "input_units: 448\n",
            "num_layers: 7\n",
            "units_0: 416\n",
            "units_1: 96\n",
            "learning_rate: 0.0001\n",
            "units_2: 320\n",
            "units_3: 256\n",
            "units_4: 192\n",
            "units_5: 352\n",
            "units_6: 480\n",
            "units_7: 224\n",
            "units_8: 320\n",
            "units_9: 352\n",
            "units_10: 128\n",
            "units_11: 128\n",
            "Score: 0.9991466005643209\n"
          ]
        }
      ]
    },
    {
      "cell_type": "code",
      "source": [
        "#creating a model with the best parameters calculated using kerastuner\n",
        "model=tuner.get_best_models(num_models=1)[0]"
      ],
      "metadata": {
        "id": "_2irKFnvD8qP"
      },
      "execution_count": null,
      "outputs": []
    },
    {
      "cell_type": "code",
      "source": [
        "model.summary()"
      ],
      "metadata": {
        "colab": {
          "base_uri": "https://localhost:8080/"
        },
        "id": "bgaV0MIFEBgb",
        "outputId": "4717896e-8886-455a-8849-f9cad2352571"
      },
      "execution_count": null,
      "outputs": [
        {
          "output_type": "stream",
          "name": "stdout",
          "text": [
            "Model: \"sequential\"\n",
            "_________________________________________________________________\n",
            " Layer (type)                Output Shape              Param #   \n",
            "=================================================================\n",
            " dense (Dense)               (None, 448)               13440     \n",
            "                                                                 \n",
            " dense_1 (Dense)             (None, 512)               229888    \n",
            "                                                                 \n",
            " dense_2 (Dense)             (None, 320)               164160    \n",
            "                                                                 \n",
            " dense_3 (Dense)             (None, 32)                10272     \n",
            "                                                                 \n",
            " dense_4 (Dense)             (None, 320)               10560     \n",
            "                                                                 \n",
            " dense_5 (Dense)             (None, 320)               102720    \n",
            "                                                                 \n",
            " dense_6 (Dense)             (None, 384)               123264    \n",
            "                                                                 \n",
            " dense_7 (Dense)             (None, 288)               110880    \n",
            "                                                                 \n",
            " dense_8 (Dense)             (None, 64)                18496     \n",
            "                                                                 \n",
            " dense_9 (Dense)             (None, 288)               18720     \n",
            "                                                                 \n",
            " dense_10 (Dense)            (None, 384)               110976    \n",
            "                                                                 \n",
            " dense_11 (Dense)            (None, 1)                 385       \n",
            "                                                                 \n",
            "=================================================================\n",
            "Total params: 913761 (3.49 MB)\n",
            "Trainable params: 913761 (3.49 MB)\n",
            "Non-trainable params: 0 (0.00 Byte)\n",
            "_________________________________________________________________\n"
          ]
        }
      ]
    },
    {
      "cell_type": "code",
      "source": [
        "#checking accuracy on test data\n",
        "y_pred_kt=model.predict(X_test)\n",
        "y_pred_kt=(y_pred_kt>0.5) #consider greater than 0.5 as true and rest as false"
      ],
      "metadata": {
        "colab": {
          "base_uri": "https://localhost:8080/"
        },
        "id": "YV4KXvWjERjC",
        "outputId": "aeb9a80c-de89-4149-b429-b92ed6e45b45"
      },
      "execution_count": null,
      "outputs": [
        {
          "output_type": "stream",
          "name": "stdout",
          "text": [
            "1781/1781 [==============================] - 14s 8ms/step\n"
          ]
        }
      ]
    },
    {
      "cell_type": "code",
      "source": [
        "accuracy_kt=accuracy_score(Y_test,y_pred_kt)\n",
        "cm_kt=confusion_matrix(Y_test,y_pred_kt)\n",
        "print(accuracy_kt)\n",
        "print(cm_kt)"
      ],
      "metadata": {
        "colab": {
          "base_uri": "https://localhost:8080/"
        },
        "id": "K_u9wb1dEYGM",
        "outputId": "be2cc840-245c-47fb-9980-95e4c32358f1"
      },
      "execution_count": null,
      "outputs": [
        {
          "output_type": "stream",
          "name": "stdout",
          "text": [
            "0.999385555282469\n",
            "[[56841    20]\n",
            " [   15    86]]\n"
          ]
        }
      ]
    },
    {
      "cell_type": "code",
      "source": [
        "#Great\n",
        "#the ANN model created using keras tuner has the highest accuracy and the least number of combined false positives and false negatives\n",
        "#and this was only with training the model with the inbalanced dataset. imagine the accuracy if we were to train it with the balanced dataset"
      ],
      "metadata": {
        "id": "4_jWKeGJdT34"
      },
      "execution_count": null,
      "outputs": []
    },
    {
      "cell_type": "code",
      "source": [],
      "metadata": {
        "id": "T-5jY8XddWs5"
      },
      "execution_count": null,
      "outputs": []
    }
  ]
}